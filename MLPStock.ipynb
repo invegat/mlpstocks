{
  "cells": [
    {
      "cell_type": "markdown",
      "metadata": {
        "id": "1TOD732-K8Fy"
      },
      "source": [
        "**File:** MLPStock.ipynb\n",
        "\n",
        "**Mark Oliver\n",
        "**Adapted from the LinkedIn Course: Data Science Foundations: Data Mining in Python file MLP.ipynb and from\n",
        "**https://medium.com/@Matthew_Frank/stock-price-prediction-using-transformers-2d84341ff213\n",
        "**file StockPricePredictionUsingTransformers.ipynb\n",
        "**https://colab.research.google.com/drive/1j3AYSIxhiNJSCP692pKPbLk4_-kG4Pmh?usp=sharing\n",
        "\n",
        "https://stackoverflow.com/questions/61163759/tuning-mlpregressor-hyper-parameters"
      ]
    },
    {
      "cell_type": "markdown",
      "metadata": {
        "id": "yeEf_v18K8F2"
      },
      "source": [
        "# IMPORT LIBRARIES"
      ]
    },
    {
      "cell_type": "raw",
      "metadata": {
        "id": "pda0by9AK8F3"
      },
      "source": [
        "data-gramm=\"false\""
      ]
    },
    {
      "cell_type": "code",
      "execution_count": null,
      "metadata": {
        "tags": [],
        "id": "UmZFa18hIoW7"
      },
      "outputs": [],
      "source": [
        "%pip install yfinance"
      ]
    },
    {
      "cell_type": "code",
      "execution_count": 4,
      "metadata": {
        "id": "gl5OmErzK8F3",
        "tags": []
      },
      "outputs": [],
      "source": [
        "import yfinance as yf\n",
        "import pandas as pd\n",
        "import numpy as np\n",
        "from matplotlib import pyplot as plt\n",
        "from matplotlib.dates import DateFormatter\n",
        "from sklearn.neural_network import MLPRegressor\n",
        "from sklearn.model_selection import TimeSeriesSplit\n",
        "from sklearn.metrics import mean_squared_error\n",
        "from sklearn.preprocessing import StandardScaler\n",
        "from sklearn.model_selection import cross_validate\n",
        "import datetime as dt\n",
        "# import itertools\n",
        "# from itertools import product\n",
        "import matplotlib.dates as mdates\n",
        "from sklearn import svm, datasets\n",
        "from sklearn.model_selection import GridSearchCV\n",
        "import pytz\n",
        "import matplotlib.ticker as mticker\n",
        "import warnings\n",
        "warnings.filterwarnings('ignore')"
      ]
    },
    {
      "cell_type": "code",
      "execution_count": 5,
      "metadata": {
        "id": "ONBGZhhSK8F5",
        "tags": []
      },
      "outputs": [],
      "source": [
        "def calculate_bollinger_bands(data, window=35, num_of_std=2):\n",
        "    \"\"\"Calculate Bollinger Bands\"\"\"\n",
        "    rolling_mean = data.rolling(window=window).mean()\n",
        "    rolling_std = data.rolling(window=window).std()\n",
        "    # print(f'rolling_mean {rolling_mean}   rolling_str {rolling_std}')\n",
        "    upper_band = rolling_mean + (rolling_std * num_of_std)\n",
        "    lower_band = rolling_mean - (rolling_std * num_of_std)\n",
        "    return upper_band, lower_band\n",
        "\n",
        "def calculate_rsi(data, window=35):\n",
        "    \"\"\"Calculate Relative Strength Index\"\"\"\n",
        "    delta = data.diff()\n",
        "    gain = delta.clip(lower=0)\n",
        "    loss = -delta.clip(upper=0)\n",
        "    avg_gain = gain.rolling(window=window, min_periods=1).mean()\n",
        "    avg_loss = loss.rolling(window=window, min_periods=1).mean()\n",
        "    rs = avg_gain / avg_loss\n",
        "    rsi = 100 - (100 / (1 + rs))\n",
        "    return rsi\n",
        "\n",
        "def calculate_roc(data, periods=35):\n",
        "    \"\"\"Calculate Rate of Change.\"\"\"\n",
        "    roc = ((data - data.shift(periods)) / data.shift(periods)) * 100\n",
        "    return roc"
      ]
    },
    {
      "cell_type": "code",
      "execution_count": 6,
      "metadata": {
        "id": "j3HVFDcxK8F5",
        "tags": []
      },
      "outputs": [],
      "source": [
        "tickers = [\"AAPL\", \"MSFT\", \"AMZN\", \"NVDA\", \"TSLA\", \"GOOG\", \"GOOGL\",  \"BRK-B\",\"META\",\\\n",
        "          \"UNH\", \"V\", \"XOM\", \"JPM\", \"JNJ\", \"WMT\", \"MA\", \"PG\", \"CVX\", \"HD\", \"LLY\", \"ABBV\", \\\n",
        "         \"BAC\", \"MRK\", \"AVGO\", \"KO\", \"ORCL\", \"PEP\", \"PFE\", \"TMO\", \"COST\", \"QQQ\", \"CRWD\", \"TTD\"]"
      ]
    },
    {
      "cell_type": "code",
      "execution_count": 7,
      "metadata": {
        "colab": {
          "base_uri": "https://localhost:8080/"
        },
        "id": "OuERD-zRK8F6",
        "outputId": "3c74e599-c5a5-4f29-bdb2-933c7af64d28",
        "tags": []
      },
      "outputs": [
        {
          "output_type": "stream",
          "name": "stdout",
          "text": [
            "33\n"
          ]
        }
      ],
      "source": [
        "print(len(tickers))"
      ]
    },
    {
      "cell_type": "code",
      "execution_count": 8,
      "metadata": {
        "colab": {
          "base_uri": "https://localhost:8080/"
        },
        "id": "44bzIGOlK8F_",
        "outputId": "48995fb9-0295-494d-cfa3-689b83fc0e9e",
        "scrolled": true,
        "tags": []
      },
      "outputs": [
        {
          "output_type": "stream",
          "name": "stderr",
          "text": [
            "[*********************100%***********************]  1 of 1 completed\n",
            "[*********************100%***********************]  1 of 1 completed\n",
            "[*********************100%***********************]  1 of 1 completed\n",
            "[*********************100%***********************]  1 of 1 completed\n",
            "[*********************100%***********************]  1 of 1 completed\n",
            "[*********************100%***********************]  1 of 1 completed\n",
            "[*********************100%***********************]  1 of 1 completed\n",
            "[*********************100%***********************]  1 of 1 completed\n",
            "[*********************100%***********************]  1 of 1 completed\n",
            "[*********************100%***********************]  1 of 1 completed\n",
            "[*********************100%***********************]  1 of 1 completed\n",
            "[*********************100%***********************]  1 of 1 completed\n",
            "[*********************100%***********************]  1 of 1 completed\n",
            "[*********************100%***********************]  1 of 1 completed\n",
            "[*********************100%***********************]  1 of 1 completed\n",
            "[*********************100%***********************]  1 of 1 completed\n",
            "[*********************100%***********************]  1 of 1 completed\n",
            "[*********************100%***********************]  1 of 1 completed\n",
            "[*********************100%***********************]  1 of 1 completed\n",
            "[*********************100%***********************]  1 of 1 completed\n",
            "[*********************100%***********************]  1 of 1 completed\n",
            "[*********************100%***********************]  1 of 1 completed\n",
            "[*********************100%***********************]  1 of 1 completed\n",
            "[*********************100%***********************]  1 of 1 completed\n",
            "[*********************100%***********************]  1 of 1 completed\n",
            "[*********************100%***********************]  1 of 1 completed\n",
            "[*********************100%***********************]  1 of 1 completed\n",
            "[*********************100%***********************]  1 of 1 completed\n",
            "[*********************100%***********************]  1 of 1 completed\n",
            "[*********************100%***********************]  1 of 1 completed\n",
            "[*********************100%***********************]  1 of 1 completed\n",
            "[*********************100%***********************]  1 of 1 completed\n",
            "[*********************100%***********************]  1 of 1 completed\n"
          ]
        }
      ],
      "source": [
        "ticker_data_frames = []\n",
        "stats = {}\n",
        "ticker_mean = []\n",
        "ticker_std = []\n",
        "ticker_ndf = []\n",
        "time = None\n",
        "for ticker in tickers:\n",
        "\n",
        "    # Download historical data for the ticker\n",
        "    data = yf.download(ticker, period=\"1mo\", interval=\"2m\", timeout=50, repair=True)\n",
        "\n",
        "    # Calculate the daily percentage change\n",
        "\n",
        "    close = data['Close']\n",
        "    upper, lower = calculate_bollinger_bands(close, window=14, num_of_std=5)\n",
        "    # print(f'upper {upper}   lower {lower}')\n",
        "    width = upper - lower\n",
        "    rsi = calculate_rsi(close, window=14)\n",
        "    roc = calculate_roc(close, periods=14)\n",
        "    volume = data['Volume']\n",
        "    diff = data['Close'].diff(1)\n",
        "    percent_change_close = data['Close'].pct_change() * 100\n",
        "    percent_change_close = percent_change_close.values.reshape(-1)\n",
        "    if time is None:\n",
        "        time = data.index\n",
        "\n",
        "    # Create a DataFrame for the current ticker and append it to the list\n",
        "    ticker_df = pd.DataFrame({\n",
        "        ticker+'_close': close.values.reshape(-1),\n",
        "        ticker+'_width': width.values.reshape(-1),\n",
        "        ticker+'_rsi': rsi.values.reshape(-1),\n",
        "        ticker+'_roc': roc.values.reshape(-1),\n",
        "        ticker+'_volume': volume.values.reshape(-1),\n",
        "        ticker+'_diff': diff.values.reshape(-1),\n",
        "        ticker+'_percent_change_close': percent_change_close,\n",
        "    })\n",
        "\n",
        "    MEAN = ticker_df.mean()\n",
        "    STD = ticker_df.std()\n",
        "\n",
        "    # Keep track of mean and std\n",
        "    for column in MEAN.index:\n",
        "      stats[f\"{column}_mean\"] = MEAN[column]\n",
        "      stats[f\"{column}_std\"] = STD[column]\n",
        "\n",
        "    # Normalize the training features\n",
        "    # ticker_df = (ticker_df - MEAN) / STD\n",
        "    ticker_ndf.append((ticker_df - MEAN) / STD)\n",
        "    ticker_mean.append(MEAN)\n",
        "    ticker_std.append(STD)\n",
        "\n",
        "    ticker_data_frames.append(ticker_df)"
      ]
    },
    {
      "cell_type": "code",
      "execution_count": 9,
      "metadata": {
        "id": "w6P6RahQIoXF"
      },
      "outputs": [],
      "source": [
        "local_timezone = pytz.timezone('America/New_York') # Replace with your local timezone\n",
        "local_time = time.tz_convert(local_timezone)\n",
        "date = time[0].date()\n",
        "dates_ = [date]\n",
        "for t in local_time:\n",
        "    if t.date() != date:\n",
        "        dates_.append(t.date())\n",
        "        date = t.date()\n",
        "dates = np.array(dates_)\n",
        "# test = np.arange(dates[len(dates)-5], dates[len(dates)-1])\n",
        "# test"
      ]
    },
    {
      "cell_type": "code",
      "execution_count": 10,
      "metadata": {
        "colab": {
          "base_uri": "https://localhost:8080/",
          "height": 130
        },
        "id": "ai4p_v5mK8GA",
        "outputId": "5afcb831-fb62-47fc-e64d-8443e8b3c723",
        "tags": []
      },
      "outputs": [
        {
          "output_type": "execute_result",
          "data": {
            "text/plain": [
              "   AAPL_close_mean  AAPL_close_std  AAPL_width_mean  AAPL_width_std  \\\n",
              "0         231.7537         6.68352         2.013295        1.731013   \n",
              "\n",
              "   AAPL_rsi_mean  AAPL_rsi_std  AAPL_roc_mean  AAPL_roc_std  AAPL_volume_mean  \\\n",
              "0      51.535899     16.511202       0.025957       0.27536     154009.189263   \n",
              "\n",
              "   AAPL_volume_std  ...  TTD_rsi_mean  TTD_rsi_std  TTD_roc_mean  TTD_roc_std  \\\n",
              "0     229765.92003  ...     51.039653    17.831406      0.030688     0.857836   \n",
              "\n",
              "   TTD_volume_mean  TTD_volume_std  TTD_diff_mean  TTD_diff_std  \\\n",
              "0     21314.312609     31876.64836        0.00246      0.310866   \n",
              "\n",
              "   TTD_percent_change_close_mean  TTD_percent_change_close_std  \n",
              "0                       0.002133                      0.238742  \n",
              "\n",
              "[1 rows x 462 columns]"
            ],
            "text/html": [
              "\n",
              "  <div id=\"df-2a083172-21d6-405b-89fa-0975e96c92c0\" class=\"colab-df-container\">\n",
              "    <div>\n",
              "<style scoped>\n",
              "    .dataframe tbody tr th:only-of-type {\n",
              "        vertical-align: middle;\n",
              "    }\n",
              "\n",
              "    .dataframe tbody tr th {\n",
              "        vertical-align: top;\n",
              "    }\n",
              "\n",
              "    .dataframe thead th {\n",
              "        text-align: right;\n",
              "    }\n",
              "</style>\n",
              "<table border=\"1\" class=\"dataframe\">\n",
              "  <thead>\n",
              "    <tr style=\"text-align: right;\">\n",
              "      <th></th>\n",
              "      <th>AAPL_close_mean</th>\n",
              "      <th>AAPL_close_std</th>\n",
              "      <th>AAPL_width_mean</th>\n",
              "      <th>AAPL_width_std</th>\n",
              "      <th>AAPL_rsi_mean</th>\n",
              "      <th>AAPL_rsi_std</th>\n",
              "      <th>AAPL_roc_mean</th>\n",
              "      <th>AAPL_roc_std</th>\n",
              "      <th>AAPL_volume_mean</th>\n",
              "      <th>AAPL_volume_std</th>\n",
              "      <th>...</th>\n",
              "      <th>TTD_rsi_mean</th>\n",
              "      <th>TTD_rsi_std</th>\n",
              "      <th>TTD_roc_mean</th>\n",
              "      <th>TTD_roc_std</th>\n",
              "      <th>TTD_volume_mean</th>\n",
              "      <th>TTD_volume_std</th>\n",
              "      <th>TTD_diff_mean</th>\n",
              "      <th>TTD_diff_std</th>\n",
              "      <th>TTD_percent_change_close_mean</th>\n",
              "      <th>TTD_percent_change_close_std</th>\n",
              "    </tr>\n",
              "  </thead>\n",
              "  <tbody>\n",
              "    <tr>\n",
              "      <th>0</th>\n",
              "      <td>231.7537</td>\n",
              "      <td>6.68352</td>\n",
              "      <td>2.013295</td>\n",
              "      <td>1.731013</td>\n",
              "      <td>51.535899</td>\n",
              "      <td>16.511202</td>\n",
              "      <td>0.025957</td>\n",
              "      <td>0.27536</td>\n",
              "      <td>154009.189263</td>\n",
              "      <td>229765.92003</td>\n",
              "      <td>...</td>\n",
              "      <td>51.039653</td>\n",
              "      <td>17.831406</td>\n",
              "      <td>0.030688</td>\n",
              "      <td>0.857836</td>\n",
              "      <td>21314.312609</td>\n",
              "      <td>31876.64836</td>\n",
              "      <td>0.00246</td>\n",
              "      <td>0.310866</td>\n",
              "      <td>0.002133</td>\n",
              "      <td>0.238742</td>\n",
              "    </tr>\n",
              "  </tbody>\n",
              "</table>\n",
              "<p>1 rows × 462 columns</p>\n",
              "</div>\n",
              "    <div class=\"colab-df-buttons\">\n",
              "\n",
              "  <div class=\"colab-df-container\">\n",
              "    <button class=\"colab-df-convert\" onclick=\"convertToInteractive('df-2a083172-21d6-405b-89fa-0975e96c92c0')\"\n",
              "            title=\"Convert this dataframe to an interactive table.\"\n",
              "            style=\"display:none;\">\n",
              "\n",
              "  <svg xmlns=\"http://www.w3.org/2000/svg\" height=\"24px\" viewBox=\"0 -960 960 960\">\n",
              "    <path d=\"M120-120v-720h720v720H120Zm60-500h600v-160H180v160Zm220 220h160v-160H400v160Zm0 220h160v-160H400v160ZM180-400h160v-160H180v160Zm440 0h160v-160H620v160ZM180-180h160v-160H180v160Zm440 0h160v-160H620v160Z\"/>\n",
              "  </svg>\n",
              "    </button>\n",
              "\n",
              "  <style>\n",
              "    .colab-df-container {\n",
              "      display:flex;\n",
              "      gap: 12px;\n",
              "    }\n",
              "\n",
              "    .colab-df-convert {\n",
              "      background-color: #E8F0FE;\n",
              "      border: none;\n",
              "      border-radius: 50%;\n",
              "      cursor: pointer;\n",
              "      display: none;\n",
              "      fill: #1967D2;\n",
              "      height: 32px;\n",
              "      padding: 0 0 0 0;\n",
              "      width: 32px;\n",
              "    }\n",
              "\n",
              "    .colab-df-convert:hover {\n",
              "      background-color: #E2EBFA;\n",
              "      box-shadow: 0px 1px 2px rgba(60, 64, 67, 0.3), 0px 1px 3px 1px rgba(60, 64, 67, 0.15);\n",
              "      fill: #174EA6;\n",
              "    }\n",
              "\n",
              "    .colab-df-buttons div {\n",
              "      margin-bottom: 4px;\n",
              "    }\n",
              "\n",
              "    [theme=dark] .colab-df-convert {\n",
              "      background-color: #3B4455;\n",
              "      fill: #D2E3FC;\n",
              "    }\n",
              "\n",
              "    [theme=dark] .colab-df-convert:hover {\n",
              "      background-color: #434B5C;\n",
              "      box-shadow: 0px 1px 3px 1px rgba(0, 0, 0, 0.15);\n",
              "      filter: drop-shadow(0px 1px 2px rgba(0, 0, 0, 0.3));\n",
              "      fill: #FFFFFF;\n",
              "    }\n",
              "  </style>\n",
              "\n",
              "    <script>\n",
              "      const buttonEl =\n",
              "        document.querySelector('#df-2a083172-21d6-405b-89fa-0975e96c92c0 button.colab-df-convert');\n",
              "      buttonEl.style.display =\n",
              "        google.colab.kernel.accessAllowed ? 'block' : 'none';\n",
              "\n",
              "      async function convertToInteractive(key) {\n",
              "        const element = document.querySelector('#df-2a083172-21d6-405b-89fa-0975e96c92c0');\n",
              "        const dataTable =\n",
              "          await google.colab.kernel.invokeFunction('convertToInteractive',\n",
              "                                                    [key], {});\n",
              "        if (!dataTable) return;\n",
              "\n",
              "        const docLinkHtml = 'Like what you see? Visit the ' +\n",
              "          '<a target=\"_blank\" href=https://colab.research.google.com/notebooks/data_table.ipynb>data table notebook</a>'\n",
              "          + ' to learn more about interactive tables.';\n",
              "        element.innerHTML = '';\n",
              "        dataTable['output_type'] = 'display_data';\n",
              "        await google.colab.output.renderOutput(dataTable, element);\n",
              "        const docLink = document.createElement('div');\n",
              "        docLink.innerHTML = docLinkHtml;\n",
              "        element.appendChild(docLink);\n",
              "      }\n",
              "    </script>\n",
              "  </div>\n",
              "\n",
              "\n",
              "    </div>\n",
              "  </div>\n"
            ],
            "application/vnd.google.colaboratory.intrinsic+json": {
              "type": "dataframe",
              "variable_name": "stats"
            }
          },
          "metadata": {},
          "execution_count": 10
        }
      ],
      "source": [
        "stats = pd.DataFrame([stats], index=[0])\n",
        "stats.head()"
      ]
    },
    {
      "cell_type": "markdown",
      "metadata": {
        "id": "3LyPCsl5K8GA"
      },
      "source": [
        "- Use the mean squared error (MSE) as cross-validation loss."
      ]
    },
    {
      "cell_type": "code",
      "source": [
        "def mlp_model(X, Y):\n",
        "\n",
        "    max_iter = 30000\n",
        "\n",
        "    # estimator=MLPRegressor(max_iter=max_iter, n_iter_no_change=20)\n",
        "    # kerasModel = tf1.keras.estimator.model_to_estimator(estimator).model\n",
        "\n",
        "    # opt = keras.optimizers.Adam()\n",
        "    # model = Sequential()\n",
        "    #             # model.add(LSTM(units=50,return_sequences=True,activation='relu'))\n",
        "    # model.add(LSTM(units=1, return_sequences=True))#,    input_shape= (input_length, input_dim)))\n",
        "\n",
        "    # # model.add(kerasModel)\n",
        "    # model.add(Dense(units=6 * 390 / interval)) # 6 trading days away\n",
        "    #             # model.add(Activation('linear'))\n",
        "    # model.compile(optimizer=opt,loss='mse', metrics=['mse'])\n",
        "\n",
        "\n",
        "\n",
        "    # params = np.arange(50,75,1)\n",
        "    # jls = [(p,2*p,p,) for p in params]\n",
        "    # param_grid = {'hidden_layer_sizes': jls,\n",
        "    #       'activation': ['relu','tanh','logistic'],\n",
        "    #       'alpha': [0.05, 0.25, 0.5],\n",
        "    #       'learning_rate': ['constant','adaptive'],\n",
        "    #       'solver': ['adam'],\n",
        "    #        'batch_size':[16,32,64],\n",
        "    #         'shuffle': [False]\n",
        "    #              }\n",
        "    # param_grid = {\n",
        "    #     'units': [10,50,100,200,300 ],\n",
        "    #     'activation': ['relu','tanh','logistic'],\n",
        "    #     'learning_rate':[0.001, 0.01, 0.1, 0.5],\n",
        "    # }\n",
        "    # gsc = GridSearchCV(\n",
        "    # model,\n",
        "    # param_grid,\n",
        "    # cv=3, scoring='neg_mean_squared_error', verbose=0, n_jobs=-1)\n",
        "\n",
        "    # grid_result = gsc.fit(X, Y)\n",
        "\n",
        "\n",
        "    # best_params = grid_result.best_params_\n",
        "\n",
        "    best_mlp = MLPRegressor(hidden_layer_sizes = [62,62,62,62,62,62],\n",
        "                            alpha=0.025,\n",
        "                            batch_size=16,\n",
        "                        activation =\"tanh\",\n",
        "                        solver=\"adam\",\n",
        "                        learning_rate='adaptive',\n",
        "                        learning_rate_init=0.005,\n",
        "                        max_iter= max_iter, n_iter_no_change = 60\n",
        "              )\n",
        "\n",
        "    # opt = keras.optimizers.Adam(learning_rate=best_params['learning_rate'])\n",
        "\n",
        "    # model = Sequential()\n",
        "    #             # model.add(LSTM(units=50,return_sequences=True,activation='relu'))\n",
        "    # model.add(LSTM(units=best_param['units'],return_sequences=True,activation=best_params['activation'])) #,    input_shape= (input_length, input_dim)))\n",
        "\n",
        "    # # model.add(tf1.estimator.model_to_estimator(best_mlp).model)\n",
        "    # model.add(Dense(units=6 * 390 / interval)) # 6 trading days away\n",
        "    #             # model.add(Activation('linear'))\n",
        "    # model.compile(optimizer=opt,loss='mse', metrics=['mse'])\n",
        "\n",
        "    # # model_dir = tempfile.mkdtemp()\n",
        "    # keras_estimator = tf1.estimator.model_to_estimator(\n",
        "    #     keras_model=model,\n",
        "    #     model_dir=model_dir\n",
        "    # )\n",
        "\n",
        "\n",
        "    scoring = {\n",
        "           'abs_error': 'neg_mean_absolute_error',\n",
        "           'squared_error': 'neg_mean_squared_error',\n",
        "           'r2':'r2'}\n",
        "\n",
        "    # scores = cross_validate(keras_estimator, X, Y, cv=3, scoring=scoring, return_train_score=True, return_estimator = True, n_jobs=-1)\n",
        "    scores = cross_validate(best_mlp, X, Y, cv=3, scoring=scoring, return_train_score=True, return_estimator = True, n_jobs=-1)\n",
        "    return None,scores\n"
      ],
      "metadata": {
        "id": "GiSUDF7jQ8PB"
      },
      "execution_count": 11,
      "outputs": []
    },
    {
      "cell_type": "code",
      "execution_count": 12,
      "metadata": {
        "id": "ZDBvNXhGIoXH"
      },
      "outputs": [],
      "source": [
        "scores = []\n",
        "params_ = []"
      ]
    },
    {
      "cell_type": "code",
      "execution_count": 13,
      "metadata": {
        "id": "FnIPgn_FK8GA",
        "scrolled": true,
        "tags": [],
        "colab": {
          "base_uri": "https://localhost:8080/",
          "height": 843
        },
        "outputId": "cd25e282-c98f-4044-ca81-7b0a2ef5c42b"
      },
      "outputs": [
        {
          "output_type": "stream",
          "name": "stdout",
          "text": [
            "mean squared error 1.1342283209781531e-05\n"
          ]
        },
        {
          "output_type": "display_data",
          "data": {
            "text/plain": [
              "<Figure size 640x480 with 1 Axes>"
            ],
            "image/png": "[encoded data removed]"
          },
          "metadata": {}
        },
        {
          "output_type": "error",
          "ename": "KeyboardInterrupt",
          "evalue": "",
          "traceback": [
            "\u001b[0;31m---------------------------------------------------------------------------\u001b[0m",
            "\u001b[0;31mKeyboardInterrupt\u001b[0m                         Traceback (most recent call last)",
            "\u001b[0;32m<ipython-input-13-69c14ddc4a51>\u001b[0m in \u001b[0;36m<cell line: 4>\u001b[0;34m()\u001b[0m\n\u001b[1;32m     41\u001b[0m     \u001b[0;31m# displayXY(ssY_test, y_test, \"ss vs StandardScaler Test Y\", i)\u001b[0m\u001b[0;34m\u001b[0m\u001b[0;34m\u001b[0m\u001b[0m\n\u001b[1;32m     42\u001b[0m     \u001b[0;31m# print(f'len X_trian {len(X_train)}    len y_test {len(y_test)}')\u001b[0m\u001b[0;34m\u001b[0m\u001b[0;34m\u001b[0m\u001b[0m\n\u001b[0;32m---> 43\u001b[0;31m     \u001b[0mparams\u001b[0m\u001b[0;34m,\u001b[0m \u001b[0mscore\u001b[0m\u001b[0;34m=\u001b[0m \u001b[0mmlp_model\u001b[0m\u001b[0;34m(\u001b[0m\u001b[0mX_train\u001b[0m\u001b[0;34m,\u001b[0m \u001b[0my_train\u001b[0m\u001b[0;34m)\u001b[0m\u001b[0;34m\u001b[0m\u001b[0;34m\u001b[0m\u001b[0m\n\u001b[0m\u001b[1;32m     44\u001b[0m     \u001b[0mparams_\u001b[0m\u001b[0;34m.\u001b[0m\u001b[0mappend\u001b[0m\u001b[0;34m(\u001b[0m\u001b[0mparams\u001b[0m\u001b[0;34m)\u001b[0m\u001b[0;34m\u001b[0m\u001b[0;34m\u001b[0m\u001b[0m\n\u001b[1;32m     45\u001b[0m     \u001b[0mscores\u001b[0m\u001b[0;34m.\u001b[0m\u001b[0mappend\u001b[0m\u001b[0;34m(\u001b[0m\u001b[0mscore\u001b[0m\u001b[0;34m)\u001b[0m\u001b[0;34m\u001b[0m\u001b[0;34m\u001b[0m\u001b[0m\n",
            "\u001b[0;32m<ipython-input-11-1a34a8b028ad>\u001b[0m in \u001b[0;36mmlp_model\u001b[0;34m(X, Y)\u001b[0m\n\u001b[1;32m     77\u001b[0m \u001b[0;34m\u001b[0m\u001b[0m\n\u001b[1;32m     78\u001b[0m     \u001b[0;31m# scores = cross_validate(keras_estimator, X, Y, cv=3, scoring=scoring, return_train_score=True, return_estimator = True, n_jobs=-1)\u001b[0m\u001b[0;34m\u001b[0m\u001b[0;34m\u001b[0m\u001b[0m\n\u001b[0;32m---> 79\u001b[0;31m     \u001b[0mscores\u001b[0m \u001b[0;34m=\u001b[0m \u001b[0mcross_validate\u001b[0m\u001b[0;34m(\u001b[0m\u001b[0mbest_mlp\u001b[0m\u001b[0;34m,\u001b[0m \u001b[0mX\u001b[0m\u001b[0;34m,\u001b[0m \u001b[0mY\u001b[0m\u001b[0;34m,\u001b[0m \u001b[0mcv\u001b[0m\u001b[0;34m=\u001b[0m\u001b[0;36m3\u001b[0m\u001b[0;34m,\u001b[0m \u001b[0mscoring\u001b[0m\u001b[0;34m=\u001b[0m\u001b[0mscoring\u001b[0m\u001b[0;34m,\u001b[0m \u001b[0mreturn_train_score\u001b[0m\u001b[0;34m=\u001b[0m\u001b[0;32mTrue\u001b[0m\u001b[0;34m,\u001b[0m \u001b[0mreturn_estimator\u001b[0m \u001b[0;34m=\u001b[0m \u001b[0;32mTrue\u001b[0m\u001b[0;34m,\u001b[0m \u001b[0mn_jobs\u001b[0m\u001b[0;34m=\u001b[0m\u001b[0;34m-\u001b[0m\u001b[0;36m1\u001b[0m\u001b[0;34m)\u001b[0m\u001b[0;34m\u001b[0m\u001b[0;34m\u001b[0m\u001b[0m\n\u001b[0m\u001b[1;32m     80\u001b[0m     \u001b[0;32mreturn\u001b[0m \u001b[0;32mNone\u001b[0m\u001b[0;34m,\u001b[0m\u001b[0mscores\u001b[0m\u001b[0;34m\u001b[0m\u001b[0;34m\u001b[0m\u001b[0m\n",
            "\u001b[0;32m/usr/local/lib/python3.10/dist-packages/sklearn/utils/_param_validation.py\u001b[0m in \u001b[0;36mwrapper\u001b[0;34m(*args, **kwargs)\u001b[0m\n\u001b[1;32m    211\u001b[0m                     )\n\u001b[1;32m    212\u001b[0m                 ):\n\u001b[0;32m--> 213\u001b[0;31m                     \u001b[0;32mreturn\u001b[0m \u001b[0mfunc\u001b[0m\u001b[0;34m(\u001b[0m\u001b[0;34m*\u001b[0m\u001b[0margs\u001b[0m\u001b[0;34m,\u001b[0m \u001b[0;34m**\u001b[0m\u001b[0mkwargs\u001b[0m\u001b[0;34m)\u001b[0m\u001b[0;34m\u001b[0m\u001b[0;34m\u001b[0m\u001b[0m\n\u001b[0m\u001b[1;32m    214\u001b[0m             \u001b[0;32mexcept\u001b[0m \u001b[0mInvalidParameterError\u001b[0m \u001b[0;32mas\u001b[0m \u001b[0me\u001b[0m\u001b[0;34m:\u001b[0m\u001b[0;34m\u001b[0m\u001b[0;34m\u001b[0m\u001b[0m\n\u001b[1;32m    215\u001b[0m                 \u001b[0;31m# When the function is just a wrapper around an estimator, we allow\u001b[0m\u001b[0;34m\u001b[0m\u001b[0;34m\u001b[0m\u001b[0m\n",
            "\u001b[0;32m/usr/local/lib/python3.10/dist-packages/sklearn/model_selection/_validation.py\u001b[0m in \u001b[0;36mcross_validate\u001b[0;34m(estimator, X, y, groups, scoring, cv, n_jobs, verbose, fit_params, params, pre_dispatch, return_train_score, return_estimator, return_indices, error_score)\u001b[0m\n\u001b[1;32m    421\u001b[0m     \u001b[0;31m# independent, and that it is pickle-able.\u001b[0m\u001b[0;34m\u001b[0m\u001b[0;34m\u001b[0m\u001b[0m\n\u001b[1;32m    422\u001b[0m     \u001b[0mparallel\u001b[0m \u001b[0;34m=\u001b[0m \u001b[0mParallel\u001b[0m\u001b[0;34m(\u001b[0m\u001b[0mn_jobs\u001b[0m\u001b[0;34m=\u001b[0m\u001b[0mn_jobs\u001b[0m\u001b[0;34m,\u001b[0m \u001b[0mverbose\u001b[0m\u001b[0;34m=\u001b[0m\u001b[0mverbose\u001b[0m\u001b[0;34m,\u001b[0m \u001b[0mpre_dispatch\u001b[0m\u001b[0;34m=\u001b[0m\u001b[0mpre_dispatch\u001b[0m\u001b[0;34m)\u001b[0m\u001b[0;34m\u001b[0m\u001b[0;34m\u001b[0m\u001b[0m\n\u001b[0;32m--> 423\u001b[0;31m     results = parallel(\n\u001b[0m\u001b[1;32m    424\u001b[0m         delayed(_fit_and_score)(\n\u001b[1;32m    425\u001b[0m             \u001b[0mclone\u001b[0m\u001b[0;34m(\u001b[0m\u001b[0mestimator\u001b[0m\u001b[0;34m)\u001b[0m\u001b[0;34m,\u001b[0m\u001b[0;34m\u001b[0m\u001b[0;34m\u001b[0m\u001b[0m\n",
            "\u001b[0;32m/usr/local/lib/python3.10/dist-packages/sklearn/utils/parallel.py\u001b[0m in \u001b[0;36m__call__\u001b[0;34m(self, iterable)\u001b[0m\n\u001b[1;32m     72\u001b[0m             \u001b[0;32mfor\u001b[0m \u001b[0mdelayed_func\u001b[0m\u001b[0;34m,\u001b[0m \u001b[0margs\u001b[0m\u001b[0;34m,\u001b[0m \u001b[0mkwargs\u001b[0m \u001b[0;32min\u001b[0m \u001b[0miterable\u001b[0m\u001b[0;34m\u001b[0m\u001b[0;34m\u001b[0m\u001b[0m\n\u001b[1;32m     73\u001b[0m         )\n\u001b[0;32m---> 74\u001b[0;31m         \u001b[0;32mreturn\u001b[0m \u001b[0msuper\u001b[0m\u001b[0;34m(\u001b[0m\u001b[0;34m)\u001b[0m\u001b[0;34m.\u001b[0m\u001b[0m__call__\u001b[0m\u001b[0;34m(\u001b[0m\u001b[0miterable_with_config\u001b[0m\u001b[0;34m)\u001b[0m\u001b[0;34m\u001b[0m\u001b[0;34m\u001b[0m\u001b[0m\n\u001b[0m\u001b[1;32m     75\u001b[0m \u001b[0;34m\u001b[0m\u001b[0m\n\u001b[1;32m     76\u001b[0m \u001b[0;34m\u001b[0m\u001b[0m\n",
            "\u001b[0;32m/usr/local/lib/python3.10/dist-packages/joblib/parallel.py\u001b[0m in \u001b[0;36m__call__\u001b[0;34m(self, iterable)\u001b[0m\n\u001b[1;32m   2005\u001b[0m         \u001b[0mnext\u001b[0m\u001b[0;34m(\u001b[0m\u001b[0moutput\u001b[0m\u001b[0;34m)\u001b[0m\u001b[0;34m\u001b[0m\u001b[0;34m\u001b[0m\u001b[0m\n\u001b[1;32m   2006\u001b[0m \u001b[0;34m\u001b[0m\u001b[0m\n\u001b[0;32m-> 2007\u001b[0;31m         \u001b[0;32mreturn\u001b[0m \u001b[0moutput\u001b[0m \u001b[0;32mif\u001b[0m \u001b[0mself\u001b[0m\u001b[0;34m.\u001b[0m\u001b[0mreturn_generator\u001b[0m \u001b[0;32melse\u001b[0m \u001b[0mlist\u001b[0m\u001b[0;34m(\u001b[0m\u001b[0moutput\u001b[0m\u001b[0;34m)\u001b[0m\u001b[0;34m\u001b[0m\u001b[0;34m\u001b[0m\u001b[0m\n\u001b[0m\u001b[1;32m   2008\u001b[0m \u001b[0;34m\u001b[0m\u001b[0m\n\u001b[1;32m   2009\u001b[0m     \u001b[0;32mdef\u001b[0m \u001b[0m__repr__\u001b[0m\u001b[0;34m(\u001b[0m\u001b[0mself\u001b[0m\u001b[0;34m)\u001b[0m\u001b[0;34m:\u001b[0m\u001b[0;34m\u001b[0m\u001b[0;34m\u001b[0m\u001b[0m\n",
            "\u001b[0;32m/usr/local/lib/python3.10/dist-packages/joblib/parallel.py\u001b[0m in \u001b[0;36m_get_outputs\u001b[0;34m(self, iterator, pre_dispatch)\u001b[0m\n\u001b[1;32m   1648\u001b[0m \u001b[0;34m\u001b[0m\u001b[0m\n\u001b[1;32m   1649\u001b[0m             \u001b[0;32mwith\u001b[0m \u001b[0mself\u001b[0m\u001b[0;34m.\u001b[0m\u001b[0m_backend\u001b[0m\u001b[0;34m.\u001b[0m\u001b[0mretrieval_context\u001b[0m\u001b[0;34m(\u001b[0m\u001b[0;34m)\u001b[0m\u001b[0;34m:\u001b[0m\u001b[0;34m\u001b[0m\u001b[0;34m\u001b[0m\u001b[0m\n\u001b[0;32m-> 1650\u001b[0;31m                 \u001b[0;32myield\u001b[0m \u001b[0;32mfrom\u001b[0m \u001b[0mself\u001b[0m\u001b[0;34m.\u001b[0m\u001b[0m_retrieve\u001b[0m\u001b[0;34m(\u001b[0m\u001b[0;34m)\u001b[0m\u001b[0;34m\u001b[0m\u001b[0;34m\u001b[0m\u001b[0m\n\u001b[0m\u001b[1;32m   1651\u001b[0m \u001b[0;34m\u001b[0m\u001b[0m\n\u001b[1;32m   1652\u001b[0m         \u001b[0;32mexcept\u001b[0m \u001b[0mGeneratorExit\u001b[0m\u001b[0;34m:\u001b[0m\u001b[0;34m\u001b[0m\u001b[0;34m\u001b[0m\u001b[0m\n",
            "\u001b[0;32m/usr/local/lib/python3.10/dist-packages/joblib/parallel.py\u001b[0m in \u001b[0;36m_retrieve\u001b[0;34m(self)\u001b[0m\n\u001b[1;32m   1760\u001b[0m                 (self._jobs[0].get_status(\n\u001b[1;32m   1761\u001b[0m                     timeout=self.timeout) == TASK_PENDING)):\n\u001b[0;32m-> 1762\u001b[0;31m                 \u001b[0mtime\u001b[0m\u001b[0;34m.\u001b[0m\u001b[0msleep\u001b[0m\u001b[0;34m(\u001b[0m\u001b[0;36m0.01\u001b[0m\u001b[0;34m)\u001b[0m\u001b[0;34m\u001b[0m\u001b[0;34m\u001b[0m\u001b[0m\n\u001b[0m\u001b[1;32m   1763\u001b[0m                 \u001b[0;32mcontinue\u001b[0m\u001b[0;34m\u001b[0m\u001b[0;34m\u001b[0m\u001b[0m\n\u001b[1;32m   1764\u001b[0m \u001b[0;34m\u001b[0m\u001b[0m\n",
            "\u001b[0;31mKeyboardInterrupt\u001b[0m: "
          ]
        }
      ],
      "source": [
        "k = 5\n",
        "total_mse = 0\n",
        "\n",
        "for i,odf in enumerate(ticker_data_frames):\n",
        "    # mean_close = ticker_mean[i]\n",
        "    # mean_std = ticker_std[i]\n",
        "    # odf = (odf + mean_close) * mean_std\n",
        "    columns = list(odf.columns.values)\n",
        "    newColumns = columns[1:k]\n",
        "    newColumns.append(columns[0])\n",
        "    # print(f'odf.shape {odf.shape}')\n",
        "    df = odf[newColumns]\n",
        "    df.replace([np.inf, -np.inf], np.nan, inplace=True)\n",
        "    df.dropna(inplace=True)\n",
        "    df = df.iloc[:-1]\n",
        "    # print(f'df.shape {df.shape}')\n",
        "    # print(df.head())\n",
        "    Z = df.to_numpy()\n",
        "    split = np.int32(0.8 * Z.shape[0])\n",
        "    Z_train, Z_test = Z[:split, :], Z[split:, :]\n",
        "    # Z_train, Z_test = Z[:,split], Z[split:, :]\n",
        "    # print(f'len Z_trian {Z_train.shape}    len Z_test {Z_test.shape}  len Z {Z.shape}')\n",
        "    train_scaler = StandardScaler().fit(Z_train)\n",
        "\n",
        "\n",
        "\n",
        "    Z_train = train_scaler.transform(Z_train)\n",
        "\n",
        "    y_scaler = StandardScaler().fit(Z_test[:,-1].reshape(1, -1))  # y_test\n",
        "    test_scaler = StandardScaler().fit(Z_test)\n",
        "    Z_test__ = test_scaler.transform(Z_test)\n",
        "    X_train, y_train = Z_train[:, :-1], Z_train[:, -1]\n",
        "    X_test, _ = Z_test__[:, :-1], Z_test[:, -1]\n",
        "    # y_test = y_scaler.transform(Z_test[:,-1].reshape(1, -1))\n",
        "    y_test = Z_test[:,-1]\n",
        "    # print(f'y_test {y_test}')\n",
        "    # print(f'Z_test[:,-1] {Z_test[:,-1]}')\n",
        "    # displayXY(ssX_train[:,0], X_train[:,0], \"ss vs StandardScaler Train X\", i)\n",
        "    # displayXY(ssY_train, y_train, \"ss vs StandardScaler Train y\", i)\n",
        "    # displayXY(ssX_test[:,0], X_test[:,0], \"ss vs StandardScaler Text X\", i)\n",
        "    # displayXY(ssY_test, y_test, \"ss vs StandardScaler Test Y\", i)\n",
        "    # print(f'len X_trian {len(X_train)}    len y_test {len(y_test)}')\n",
        "    params, score= mlp_model(X_train, y_train)\n",
        "    params_.append(params)\n",
        "    scores.append(score)\n",
        "    # score=scores[0]\n",
        "    # params=params_[0]\n",
        "    # y_pred = None\n",
        "    # for i_,e in enumerate(score['estimator']):\n",
        "    #     e.fit(X_train, y_train)\n",
        "    #     pred = e.predict(X_test)\n",
        "    #     if i_ == 0:\n",
        "    #         y_pred = np.array(pred)\n",
        "    #     else:\n",
        "    #         y_pred += np.array(pred)\n",
        "    # y_pred /= len(score['estimator'])\n",
        "    e = score['estimator'][np.argmin(score['train_squared_error'])]\n",
        "    e.fit(X_train,y_train)\n",
        "\n",
        "\n",
        "    # mlp = MLPRegressor(hidden_layer_sizes = params[\"hidden_layer_sizes\"],\n",
        "    #                 activation =params[\"activation\"],\n",
        "    #                 solver=params[\"solver\"],\n",
        "    #                 max_iter= 5000, n_iter_no_change = 200\n",
        "\n",
        "    # params = [10,15, 16, 17, 18, 19 ,20,21,22,23,24,25,30,35,40,45,50,55,60,65,75]\n",
        "    # params = np.arange(10,25,1)\n",
        "    # mse = [cross_validation_loss(p, X_train,y_train) for p in params]\n",
        "    # minMSE = params[np.argmin(mse)]\n",
        "    # mlp = MLPRegressor(hidden_layer_sizes=(2*minMSE,minMSE,minMSE,), max_iter=5000, random_state=1,\n",
        "    #                    activation='relu', learning_rate_init=0.001, alpha=0.00001,shuffle=False)\n",
        "    # print(f'minMSE: {minMSE}  df.shape {df.shape} {stats.iloc[0][0:2]} {stats.iloc[0][0]}    {stats.iloc[0][1]}')\n",
        "    # close = odf.columns.to_list()[0]\n",
        "    # mlp.fit(X_train, y_train)\n",
        "    y_pred = e.predict(X_test )\n",
        "    # y_test_ = (test_scaler.inverse_transform(np.hstack([X_test, y_test.reshape(-1, 1)]))[:, -1])\n",
        "    # y_pred_ = (test_scaler.inverse_transform(np.hstack([X_test, y_pred.reshape(-1, 1)]))[:, -1])\n",
        "    # y_test_ = (y_scaler.inverse_transform(np.hstack([X_test, y_test.reshape(-1, 1)]))[:, -1])\n",
        "    # y_pred_ = (y_scaler.inverse_transform(np.hstack([X_test, y_pred.reshape(-1, 1)]))[:, -1])\n",
        "    # y_test_ = y_scaler.inverse_transform(np.array(y_test))[0]\n",
        "    y_test_ = y_test\n",
        "    # print(f'y_test_.shape {y_test_.shape}')\n",
        "    y_pred_ = y_scaler.inverse_transform(np.array(y_pred.reshape(1, -1)))[0]\n",
        "    # print(f'y_pred_.shape {y_pred__.shape}')\n",
        "    mse_ = mean_squared_error(y_test_, y_pred_)\n",
        "    total_mse += mse_\n",
        "    print(f'mean squared error {mse_}')\n",
        "    fig, ax = plt.subplots()\n",
        "    plt.xlabel(tickers[i])\n",
        "    plt.ylabel(f'{tickers[i]} close')\n",
        "    plt.title(f'2 minute {tickers[i]}')\n",
        "    time = mdates.drange(dates[len(dates)-np.round(len(y_test_)/97.5).astype(int)],dates[len(dates)-1],  dt.timedelta(hours=3.25))\n",
        "    fractions = np.linspace(min(time), max(time), len(y_test_))\n",
        "    plt.plot(fractions, pd.Series(y_test_), color='blue', label='Test Data')\n",
        "    plt.plot(fractions, pd.Series(y_pred_), color='red', label=f'Forecast {tickers[i]}')\n",
        "    ax.xaxis.set_major_formatter(mdates.DateFormatter(\"%m-%d-%y\"))\n",
        "    plt.xlim(min(time), max(time))\n",
        "    plt.xticks(time, fontsize=8)\n",
        "    ax.xaxis_date() # Default date formatter\n",
        "    fig.autofmt_xdate()\n",
        "    plt.legend(loc='upper right')\n",
        "    # plt.figure(figsize=(15, 5))\n",
        "    ax.xaxis.set_major_locator(mticker.MultipleLocator(1))\n",
        "    plt.tight_layout()\n",
        "    plt.show()\n",
        "    # if i == 5:\n",
        "    #     break\n",
        "print(f'total_mse {total_mse}   average mse {total_mse/len(ticker_data_frames)}')"
      ]
    },
    {
      "cell_type": "code",
      "source": [
        "?e.predict"
      ],
      "metadata": {
        "colab": {
          "base_uri": "https://localhost:8080/"
        },
        "id": "6ctHvmiLFPgT",
        "outputId": "2df6b4ab-197e-48f1-d909-310a791d2aed"
      },
      "execution_count": 1,
      "outputs": [
        {
          "output_type": "stream",
          "name": "stdout",
          "text": [
            "Object `e.predict` not found.\n"
          ]
        }
      ]
    },
    {
      "cell_type": "code",
      "source": [],
      "metadata": {
        "id": "vVRAf-iiFRXj"
      },
      "execution_count": null,
      "outputs": []
    }
  ],
  "metadata": {
    "colab": {
      "provenance": []
    },
    "kernelspec": {
      "display_name": "Python 3 (ipykernel)",
      "language": "python",
      "name": "python3"
    },
    "language_info": {
      "codemirror_mode": {
        "name": "ipython",
        "version": 3
      },
      "file_extension": ".py",
      "mimetype": "text/x-python",
      "name": "python",
      "nbconvert_exporter": "python",
      "pygments_lexer": "ipython3",
      "version": "3.12.7"
    }
  },
  "nbformat": 4,
  "nbformat_minor": 0
}
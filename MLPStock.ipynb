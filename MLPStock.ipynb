{
  "cells": [
    {
      "cell_type": "markdown",
      "metadata": {
        "id": "1TOD732-K8Fy"
      },
      "source": [
        "**File:** MLPStock.ipynb\n",
        "\n",
        "**Mark Oliver\n",
        "**Adapted from the LinkedIn Course: Data Science Foundations: Data Mining in Python file MLP.ipynb and from\n",
        "**https://medium.com/@Matthew_Frank/stock-price-prediction-using-transformers-2d84341ff213\n",
        "**file StockPricePredictionUsingTransformers.ipynb\n",
        "**https://colab.research.google.com/drive/1j3AYSIxhiNJSCP692pKPbLk4_-kG4Pmh?usp=sharing"
      ]
    },
    {
      "cell_type": "markdown",
      "metadata": {
        "id": "yeEf_v18K8F2"
      },
      "source": [
        "# IMPORT LIBRARIES"
      ]
    },
    {
      "cell_type": "raw",
      "metadata": {
        "id": "pda0by9AK8F3"
      },
      "source": [
        "data-gramm=\"false\""
      ]
    },
    {
      "cell_type": "code",
      "execution_count": null,
      "metadata": {
        "id": "gl5OmErzK8F3"
      },
      "outputs": [],
      "source": [
        "import yfinance as yf\n",
        "import pandas as pd\n",
        "import numpy as np\n",
        "from matplotlib import pyplot as plt\n",
        "from matplotlib.dates import DateFormatter\n",
        "from sklearn.neural_network import MLPRegressor\n",
        "from sklearn.model_selection import TimeSeriesSplit\n",
        "from sklearn.metrics import mean_squared_error\n",
        "from sklearn.preprocessing import StandardScaler\n",
        "from sklearn.model_selection import cross_validate\n",
        "import warnings\n",
        "warnings.filterwarnings('ignore')\n",
        "import itertools\n",
        "from itertools import product"
      ]
    },
    {
      "cell_type": "code",
      "execution_count": null,
      "metadata": {
        "id": "ONBGZhhSK8F5"
      },
      "outputs": [],
      "source": [
        "def calculate_bollinger_bands(data, window=10, num_of_std=2):\n",
        "    \"\"\"Calculate Bollinger Bands\"\"\"\n",
        "    rolling_mean = data.rolling(window=window).mean()\n",
        "    rolling_std = data.rolling(window=window).std()\n",
        "    upper_band = rolling_mean + (rolling_std * num_of_std)\n",
        "    lower_band = rolling_mean - (rolling_std * num_of_std)\n",
        "    return upper_band, lower_band\n",
        "\n",
        "def calculate_rsi(data, window=10):\n",
        "    \"\"\"Calculate Relative Strength Index\"\"\"\n",
        "    delta = data.diff()\n",
        "    gain = delta.clip(lower=0)\n",
        "    loss = -delta.clip(upper=0)\n",
        "    avg_gain = gain.rolling(window=window, min_periods=1).mean()\n",
        "    avg_loss = loss.rolling(window=window, min_periods=1).mean()\n",
        "    rs = avg_gain / avg_loss\n",
        "    rsi = 100 - (100 / (1 + rs))\n",
        "    return rsi\n",
        "\n",
        "def calculate_roc(data, periods=10):\n",
        "    \"\"\"Calculate Rate of Change.\"\"\"\n",
        "    roc = ((data - data.shift(periods)) / data.shift(periods)) * 100\n",
        "    return roc"
      ]
    },
    {
      "cell_type": "code",
      "execution_count": null,
      "metadata": {
        "id": "j3HVFDcxK8F5"
      },
      "outputs": [],
      "source": [
        "tickers = [\"AAPL\", \"MSFT\", \"AMZN\", \"NVDA\", \"TSLA\", \"GOOG\", \"GOOGL\",  \"BRK-B\",\"META\",\\\n",
        "          \"UNH\", \"V\", \"XOM\", \"JPM\", \"JNJ\", \"WMT\", \"MA\", \"PG\", \"CVX\", \"HD\", \"LLY\", \"ABBV\", \\\n",
        "         \"BAC\", \"MRK\", \"AVGO\", \"KO\", \"ORCL\", \"PEP\", \"PFE\", \"TMO\", \"COST\", \"QQQ\", \"CRWD\", \"TTD\"]"
      ]
    },
    {
      "cell_type": "code",
      "execution_count": null,
      "metadata": {
        "id": "OuERD-zRK8F6",
        "outputId": "d6344781-6e65-4937-f3f0-7a3501c62466"
      },
      "outputs": [
        {
          "name": "stdout",
          "output_type": "stream",
          "text": [
            "33\n"
          ]
        }
      ],
      "source": [
        "print(len(tickers))"
      ]
    },
    {
      "cell_type": "code",
      "execution_count": null,
      "metadata": {
        "id": "eTqg_ImLK8F7",
        "outputId": "0864f5d0-6881-4df1-c44f-6b5d502cc428"
      },
      "outputs": [
        {
          "data": {
            "text/plain": [
              "yfinance.Ticker object <BRK_B>"
            ]
          },
          "execution_count": 5,
          "metadata": {},
          "output_type": "execute_result"
        }
      ],
      "source": [
        "yf.Ticker('BRK_B')"
      ]
    },
    {
      "cell_type": "code",
      "execution_count": null,
      "metadata": {
        "id": "W9Hl-4NIK8F8",
        "outputId": "112d6b36-5d17-487c-e310-43e6316147de"
      },
      "outputs": [
        {
          "name": "stderr",
          "output_type": "stream",
          "text": [
            "[*********************100%***********************]  1 of 1 completed\n"
          ]
        }
      ],
      "source": [
        "tdata = yf.download(\"BRK-B\", period=\"1mo\", interval=\"2m\")"
      ]
    },
    {
      "cell_type": "code",
      "execution_count": null,
      "metadata": {
        "id": "WgWJGxIKK8F8",
        "outputId": "e8164dbd-5e8b-48fb-c4fc-b0f3ec0b6e5c"
      },
      "outputs": [
        {
          "data": {
            "text/plain": [
              "(4092, 6)"
            ]
          },
          "execution_count": 13,
          "metadata": {},
          "output_type": "execute_result"
        }
      ],
      "source": [
        "tdata.shape"
      ]
    },
    {
      "cell_type": "code",
      "execution_count": null,
      "metadata": {
        "id": "liZ_zmR0K8F8",
        "outputId": "fce1860a-c0f6-4cff-fd82-c46f7dc85c2f"
      },
      "outputs": [
        {
          "data": {
            "text/html": [
              "<div>\n",
              "<style scoped>\n",
              "    .dataframe tbody tr th:only-of-type {\n",
              "        vertical-align: middle;\n",
              "    }\n",
              "\n",
              "    .dataframe tbody tr th {\n",
              "        vertical-align: top;\n",
              "    }\n",
              "\n",
              "    .dataframe thead th {\n",
              "        text-align: right;\n",
              "    }\n",
              "</style>\n",
              "<table border=\"1\" class=\"dataframe\">\n",
              "  <thead>\n",
              "    <tr style=\"text-align: right;\">\n",
              "      <th></th>\n",
              "      <th>Open</th>\n",
              "      <th>High</th>\n",
              "      <th>Low</th>\n",
              "      <th>Close</th>\n",
              "      <th>Adj Close</th>\n",
              "      <th>Volume</th>\n",
              "    </tr>\n",
              "    <tr>\n",
              "      <th>Datetime</th>\n",
              "      <th></th>\n",
              "      <th></th>\n",
              "      <th></th>\n",
              "      <th></th>\n",
              "      <th></th>\n",
              "      <th></th>\n",
              "    </tr>\n",
              "  </thead>\n",
              "  <tbody>\n",
              "    <tr>\n",
              "      <th>2024-10-07 09:30:00-04:00</th>\n",
              "      <td>462.339996</td>\n",
              "      <td>462.339996</td>\n",
              "      <td>459.769104</td>\n",
              "      <td>459.769104</td>\n",
              "      <td>459.769104</td>\n",
              "      <td>161738</td>\n",
              "    </tr>\n",
              "    <tr>\n",
              "      <th>2024-10-07 09:32:00-04:00</th>\n",
              "      <td>459.622803</td>\n",
              "      <td>461.119995</td>\n",
              "      <td>459.200195</td>\n",
              "      <td>460.684998</td>\n",
              "      <td>460.684998</td>\n",
              "      <td>31800</td>\n",
              "    </tr>\n",
              "    <tr>\n",
              "      <th>2024-10-07 09:34:00-04:00</th>\n",
              "      <td>460.694885</td>\n",
              "      <td>460.695007</td>\n",
              "      <td>458.929993</td>\n",
              "      <td>460.329987</td>\n",
              "      <td>460.329987</td>\n",
              "      <td>35316</td>\n",
              "    </tr>\n",
              "    <tr>\n",
              "      <th>2024-10-07 09:36:00-04:00</th>\n",
              "      <td>460.299988</td>\n",
              "      <td>460.299988</td>\n",
              "      <td>458.880005</td>\n",
              "      <td>459.959991</td>\n",
              "      <td>459.959991</td>\n",
              "      <td>18557</td>\n",
              "    </tr>\n",
              "    <tr>\n",
              "      <th>2024-10-07 09:38:00-04:00</th>\n",
              "      <td>459.799988</td>\n",
              "      <td>459.799988</td>\n",
              "      <td>458.709991</td>\n",
              "      <td>458.845001</td>\n",
              "      <td>458.845001</td>\n",
              "      <td>23430</td>\n",
              "    </tr>\n",
              "  </tbody>\n",
              "</table>\n",
              "</div>"
            ],
            "text/plain": [
              "                                 Open        High         Low       Close  \\\n",
              "Datetime                                                                    \n",
              "2024-10-07 09:30:00-04:00  462.339996  462.339996  459.769104  459.769104   \n",
              "2024-10-07 09:32:00-04:00  459.622803  461.119995  459.200195  460.684998   \n",
              "2024-10-07 09:34:00-04:00  460.694885  460.695007  458.929993  460.329987   \n",
              "2024-10-07 09:36:00-04:00  460.299988  460.299988  458.880005  459.959991   \n",
              "2024-10-07 09:38:00-04:00  459.799988  459.799988  458.709991  458.845001   \n",
              "\n",
              "                            Adj Close  Volume  \n",
              "Datetime                                       \n",
              "2024-10-07 09:30:00-04:00  459.769104  161738  \n",
              "2024-10-07 09:32:00-04:00  460.684998   31800  \n",
              "2024-10-07 09:34:00-04:00  460.329987   35316  \n",
              "2024-10-07 09:36:00-04:00  459.959991   18557  \n",
              "2024-10-07 09:38:00-04:00  458.845001   23430  "
            ]
          },
          "execution_count": 12,
          "metadata": {},
          "output_type": "execute_result"
        }
      ],
      "source": [
        "tdata.head()"
      ]
    },
    {
      "cell_type": "code",
      "execution_count": null,
      "metadata": {
        "id": "EkcyT8VRK8F9",
        "outputId": "818ab9a9-ee4a-492b-8612-09a2782121f3"
      },
      "outputs": [
        {
          "name": "stderr",
          "output_type": "stream",
          "text": [
            "[*********************100%***********************]  1 of 1 completed\n",
            "[*********************100%***********************]  1 of 1 completed\n",
            "[*********************100%***********************]  1 of 1 completed\n",
            "[*********************100%***********************]  1 of 1 completed\n",
            "[*********************100%***********************]  1 of 1 completed\n",
            "[*********************100%***********************]  1 of 1 completed\n",
            "[*********************100%***********************]  1 of 1 completed\n",
            "[*********************100%***********************]  1 of 1 completed\n",
            "[*********************100%***********************]  1 of 1 completed\n",
            "[*********************100%***********************]  1 of 1 completed\n",
            "[*********************100%***********************]  1 of 1 completed\n",
            "[*********************100%***********************]  1 of 1 completed\n",
            "[*********************100%***********************]  1 of 1 completed\n",
            "[*********************100%***********************]  1 of 1 completed\n",
            "[*********************100%***********************]  1 of 1 completed\n",
            "[*********************100%***********************]  1 of 1 completed\n",
            "[*********************100%***********************]  1 of 1 completed\n",
            "[*********************100%***********************]  1 of 1 completed\n",
            "[*********************100%***********************]  1 of 1 completed\n",
            "[*********************100%***********************]  1 of 1 completed\n",
            "[*********************100%***********************]  1 of 1 completed\n",
            "[*********************100%***********************]  1 of 1 completed\n",
            "[*********************100%***********************]  1 of 1 completed\n",
            "[*********************100%***********************]  1 of 1 completed\n",
            "[*********************100%***********************]  1 of 1 completed\n",
            "[*********************100%***********************]  1 of 1 completed\n",
            "[*********************100%***********************]  1 of 1 completed\n",
            "[*********************100%***********************]  1 of 1 completed\n",
            "[*********************100%***********************]  1 of 1 completed\n",
            "[*********************100%***********************]  1 of 1 completed\n",
            "[*********************100%***********************]  1 of 1 completed\n",
            "[*********************100%***********************]  1 of 1 completed\n",
            "[*********************100%***********************]  1 of 1 completed\n"
          ]
        }
      ],
      "source": [
        "ticker_data_frames = []\n",
        "stats = {}\n",
        "for ticker in tickers:\n",
        "\n",
        "    # Download historical data for the ticker\n",
        "    data = yf.download(ticker, period=\"1mo\", interval=\"2m\")\n",
        "\n",
        "    # Calculate the daily percentage change\n",
        "    close = data['Close']\n",
        "    upper, lower = calculate_bollinger_bands(close, window=14, num_of_std=2)\n",
        "    width = upper - lower\n",
        "    rsi = calculate_rsi(close, window=14)\n",
        "    roc = calculate_roc(close, periods=14)\n",
        "    volume = data['Volume']\n",
        "    diff = data['Close'].diff(1)\n",
        "    percent_change_close = data['Close'].pct_change() * 100\n",
        "\n",
        "    # Create a DataFrame for the current ticker and append it to the list\n",
        "    ticker_df = pd.DataFrame({\n",
        "        ticker+'_close': close,\n",
        "        ticker+'_width': width,\n",
        "        ticker+'_rsi': rsi,\n",
        "        ticker+'_roc': roc,\n",
        "        ticker+'_volume': volume,\n",
        "        ticker+'_diff': diff,\n",
        "        ticker+'_percent_change_close': percent_change_close,\n",
        "    })\n",
        "\n",
        "    MEAN = ticker_df.mean()\n",
        "    STD = ticker_df.std()\n",
        "\n",
        "    # Keep track of mean and std\n",
        "    for column in MEAN.index:\n",
        "      stats[f\"{column}_mean\"] = MEAN[column]\n",
        "      stats[f\"{column}_std\"] = STD[column]\n",
        "\n",
        "    # Normalize the training features\n",
        "    ticker_df = (ticker_df - MEAN) / STD\n",
        "\n",
        "    ticker_data_frames.append(ticker_df)"
      ]
    },
    {
      "cell_type": "code",
      "execution_count": null,
      "metadata": {
        "id": "lzMmW_SIK8F9"
      },
      "outputs": [],
      "source": [
        "import pandas as pd\n",
        "import numpy as np\n",
        "from matplotlib import pyplot as plt\n",
        "from matplotlib.dates import DateFormatter\n",
        "from sklearn.neural_network import MLPRegressor\n",
        "from sklearn.model_selection import TimeSeriesSplit\n",
        "from sklearn.metrics import mean_squared_error\n",
        "from sklearn.preprocessing import StandardScaler\n",
        "import warnings\n",
        "warnings.filterwarnings('ignore')"
      ]
    },
    {
      "cell_type": "code",
      "execution_count": null,
      "metadata": {
        "id": "tui7qLX7K8F-",
        "outputId": "48de4abb-a6d3-43f0-a883-e6ba6dca97dc"
      },
      "outputs": [
        {
          "data": {
            "text/html": [
              "<div>\n",
              "<style scoped>\n",
              "    .dataframe tbody tr th:only-of-type {\n",
              "        vertical-align: middle;\n",
              "    }\n",
              "\n",
              "    .dataframe tbody tr th {\n",
              "        vertical-align: top;\n",
              "    }\n",
              "\n",
              "    .dataframe thead th {\n",
              "        text-align: right;\n",
              "    }\n",
              "</style>\n",
              "<table border=\"1\" class=\"dataframe\">\n",
              "  <thead>\n",
              "    <tr style=\"text-align: right;\">\n",
              "      <th></th>\n",
              "      <th>AAPL_close_mean</th>\n",
              "      <th>AAPL_close_std</th>\n",
              "      <th>AAPL_width_mean</th>\n",
              "      <th>AAPL_width_std</th>\n",
              "      <th>AAPL_rsi_mean</th>\n",
              "      <th>AAPL_rsi_std</th>\n",
              "      <th>AAPL_roc_mean</th>\n",
              "      <th>AAPL_roc_std</th>\n",
              "      <th>AAPL_volume_mean</th>\n",
              "      <th>AAPL_volume_std</th>\n",
              "      <th>...</th>\n",
              "      <th>TTD_rsi_mean</th>\n",
              "      <th>TTD_rsi_std</th>\n",
              "      <th>TTD_roc_mean</th>\n",
              "      <th>TTD_roc_std</th>\n",
              "      <th>TTD_volume_mean</th>\n",
              "      <th>TTD_volume_std</th>\n",
              "      <th>TTD_diff_mean</th>\n",
              "      <th>TTD_diff_std</th>\n",
              "      <th>TTD_percent_change_close_mean</th>\n",
              "      <th>TTD_percent_change_close_std</th>\n",
              "    </tr>\n",
              "  </thead>\n",
              "  <tbody>\n",
              "    <tr>\n",
              "      <th>0</th>\n",
              "      <td>230.092597</td>\n",
              "      <td>3.806064</td>\n",
              "      <td>0.90484</td>\n",
              "      <td>0.959809</td>\n",
              "      <td>51.69034</td>\n",
              "      <td>16.549611</td>\n",
              "      <td>0.00387</td>\n",
              "      <td>0.334957</td>\n",
              "      <td>152740.134795</td>\n",
              "      <td>249433.001848</td>\n",
              "      <td>...</td>\n",
              "      <td>51.767077</td>\n",
              "      <td>15.939781</td>\n",
              "      <td>0.036707</td>\n",
              "      <td>0.394684</td>\n",
              "      <td>9809.326954</td>\n",
              "      <td>15760.806961</td>\n",
              "      <td>0.003137</td>\n",
              "      <td>0.141969</td>\n",
              "      <td>0.002809</td>\n",
              "      <td>0.122632</td>\n",
              "    </tr>\n",
              "  </tbody>\n",
              "</table>\n",
              "<p>1 rows × 462 columns</p>\n",
              "</div>"
            ],
            "text/plain": [
              "   AAPL_close_mean  AAPL_close_std  AAPL_width_mean  AAPL_width_std  \\\n",
              "0       230.092597        3.806064          0.90484        0.959809   \n",
              "\n",
              "   AAPL_rsi_mean  AAPL_rsi_std  AAPL_roc_mean  AAPL_roc_std  AAPL_volume_mean  \\\n",
              "0       51.69034     16.549611        0.00387      0.334957     152740.134795   \n",
              "\n",
              "   AAPL_volume_std  ...  TTD_rsi_mean  TTD_rsi_std  TTD_roc_mean  TTD_roc_std  \\\n",
              "0    249433.001848  ...     51.767077    15.939781      0.036707     0.394684   \n",
              "\n",
              "   TTD_volume_mean  TTD_volume_std  TTD_diff_mean  TTD_diff_std  \\\n",
              "0      9809.326954    15760.806961       0.003137      0.141969   \n",
              "\n",
              "   TTD_percent_change_close_mean  TTD_percent_change_close_std  \n",
              "0                       0.002809                      0.122632  \n",
              "\n",
              "[1 rows x 462 columns]"
            ]
          },
          "execution_count": 69,
          "metadata": {},
          "output_type": "execute_result"
        }
      ],
      "source": [
        "# Convert stats from dict to df\n",
        "stats = pd.DataFrame([stats], index=[0])\n",
        "stats.head()"
      ]
    },
    {
      "cell_type": "code",
      "execution_count": null,
      "metadata": {
        "id": "GiUsIIC9K8F-",
        "outputId": "a1e6283d-1f36-4530-d36f-fd4fcb19f79c"
      },
      "outputs": [
        {
          "name": "stdout",
          "output_type": "stream",
          "text": [
            "(3881, 231)\n"
          ]
        },
        {
          "data": {
            "text/html": [
              "<div>\n",
              "<style scoped>\n",
              "    .dataframe tbody tr th:only-of-type {\n",
              "        vertical-align: middle;\n",
              "    }\n",
              "\n",
              "    .dataframe tbody tr th {\n",
              "        vertical-align: top;\n",
              "    }\n",
              "\n",
              "    .dataframe thead th {\n",
              "        text-align: right;\n",
              "    }\n",
              "</style>\n",
              "<table border=\"1\" class=\"dataframe\">\n",
              "  <thead>\n",
              "    <tr style=\"text-align: right;\">\n",
              "      <th></th>\n",
              "      <th>AAPL_close</th>\n",
              "      <th>AAPL_width</th>\n",
              "      <th>AAPL_rsi</th>\n",
              "      <th>AAPL_roc</th>\n",
              "      <th>AAPL_volume</th>\n",
              "      <th>AAPL_diff</th>\n",
              "      <th>AAPL_percent_change_close</th>\n",
              "      <th>MSFT_close</th>\n",
              "      <th>MSFT_width</th>\n",
              "      <th>MSFT_rsi</th>\n",
              "      <th>...</th>\n",
              "      <th>CRWD_volume</th>\n",
              "      <th>CRWD_diff</th>\n",
              "      <th>CRWD_percent_change_close</th>\n",
              "      <th>TTD_close</th>\n",
              "      <th>TTD_width</th>\n",
              "      <th>TTD_rsi</th>\n",
              "      <th>TTD_roc</th>\n",
              "      <th>TTD_volume</th>\n",
              "      <th>TTD_diff</th>\n",
              "      <th>TTD_percent_change_close</th>\n",
              "    </tr>\n",
              "    <tr>\n",
              "      <th>Datetime</th>\n",
              "      <th></th>\n",
              "      <th></th>\n",
              "      <th></th>\n",
              "      <th></th>\n",
              "      <th></th>\n",
              "      <th></th>\n",
              "      <th></th>\n",
              "      <th></th>\n",
              "      <th></th>\n",
              "      <th></th>\n",
              "      <th></th>\n",
              "      <th></th>\n",
              "      <th></th>\n",
              "      <th></th>\n",
              "      <th></th>\n",
              "      <th></th>\n",
              "      <th></th>\n",
              "      <th></th>\n",
              "      <th></th>\n",
              "      <th></th>\n",
              "      <th></th>\n",
              "    </tr>\n",
              "  </thead>\n",
              "  <tbody>\n",
              "    <tr>\n",
              "      <th>2024-10-07 09:58:00-04:00</th>\n",
              "      <td>-1.216057</td>\n",
              "      <td>0.066875</td>\n",
              "      <td>0.192077</td>\n",
              "      <td>0.259513</td>\n",
              "      <td>-0.050567</td>\n",
              "      <td>0.298578</td>\n",
              "      <td>0.304536</td>\n",
              "      <td>-0.655165</td>\n",
              "      <td>0.386624</td>\n",
              "      <td>-0.450473</td>\n",
              "      <td>...</td>\n",
              "      <td>0.021066</td>\n",
              "      <td>0.211990</td>\n",
              "      <td>0.223957</td>\n",
              "      <td>-2.270577</td>\n",
              "      <td>2.260860</td>\n",
              "      <td>-1.073244</td>\n",
              "      <td>-2.309589</td>\n",
              "      <td>-0.259138</td>\n",
              "      <td>2.588407</td>\n",
              "      <td>2.721711</td>\n",
              "    </tr>\n",
              "    <tr>\n",
              "      <th>2024-10-07 10:00:00-04:00</th>\n",
              "      <td>-1.208768</td>\n",
              "      <td>0.035707</td>\n",
              "      <td>0.702009</td>\n",
              "      <td>0.696578</td>\n",
              "      <td>0.151602</td>\n",
              "      <td>0.150963</td>\n",
              "      <td>0.153728</td>\n",
              "      <td>-0.631203</td>\n",
              "      <td>0.326259</td>\n",
              "      <td>-0.687622</td>\n",
              "      <td>...</td>\n",
              "      <td>-0.025342</td>\n",
              "      <td>-0.014603</td>\n",
              "      <td>-0.016133</td>\n",
              "      <td>-2.322332</td>\n",
              "      <td>1.925329</td>\n",
              "      <td>-0.939352</td>\n",
              "      <td>-1.903225</td>\n",
              "      <td>-0.241118</td>\n",
              "      <td>-0.849925</td>\n",
              "      <td>-0.891245</td>\n",
              "    </tr>\n",
              "    <tr>\n",
              "      <th>2024-10-07 10:02:00-04:00</th>\n",
              "      <td>-1.165033</td>\n",
              "      <td>0.031650</td>\n",
              "      <td>0.907233</td>\n",
              "      <td>0.954644</td>\n",
              "      <td>0.140722</td>\n",
              "      <td>0.889111</td>\n",
              "      <td>0.907319</td>\n",
              "      <td>-0.594593</td>\n",
              "      <td>0.007580</td>\n",
              "      <td>-1.030435</td>\n",
              "      <td>...</td>\n",
              "      <td>-0.135824</td>\n",
              "      <td>2.591781</td>\n",
              "      <td>2.744617</td>\n",
              "      <td>-2.207526</td>\n",
              "      <td>1.688033</td>\n",
              "      <td>-0.455623</td>\n",
              "      <td>-0.928134</td>\n",
              "      <td>-0.166185</td>\n",
              "      <td>1.860011</td>\n",
              "      <td>1.951344</td>\n",
              "    </tr>\n",
              "    <tr>\n",
              "      <th>2024-10-07 10:04:00-04:00</th>\n",
              "      <td>-1.138307</td>\n",
              "      <td>-0.317699</td>\n",
              "      <td>1.683952</td>\n",
              "      <td>1.552287</td>\n",
              "      <td>0.084631</td>\n",
              "      <td>0.544627</td>\n",
              "      <td>0.555177</td>\n",
              "      <td>-0.532021</td>\n",
              "      <td>-0.025249</td>\n",
              "      <td>-0.153460</td>\n",
              "      <td>...</td>\n",
              "      <td>0.287439</td>\n",
              "      <td>2.570765</td>\n",
              "      <td>2.710947</td>\n",
              "      <td>-2.046310</td>\n",
              "      <td>1.739454</td>\n",
              "      <td>0.004321</td>\n",
              "      <td>0.078583</td>\n",
              "      <td>-0.202408</td>\n",
              "      <td>2.615067</td>\n",
              "      <td>2.737129</td>\n",
              "    </tr>\n",
              "    <tr>\n",
              "      <th>2024-10-07 10:06:00-04:00</th>\n",
              "      <td>-1.152884</td>\n",
              "      <td>-0.268748</td>\n",
              "      <td>0.889486</td>\n",
              "      <td>0.601732</td>\n",
              "      <td>-0.120821</td>\n",
              "      <td>-0.291880</td>\n",
              "      <td>-0.298025</td>\n",
              "      <td>-0.579857</td>\n",
              "      <td>-0.054733</td>\n",
              "      <td>-0.205860</td>\n",
              "      <td>...</td>\n",
              "      <td>0.151807</td>\n",
              "      <td>-1.645083</td>\n",
              "      <td>-1.728753</td>\n",
              "      <td>-2.076500</td>\n",
              "      <td>1.337992</td>\n",
              "      <td>-0.384916</td>\n",
              "      <td>-0.790484</td>\n",
              "      <td>-0.153080</td>\n",
              "      <td>-0.499058</td>\n",
              "      <td>-0.521107</td>\n",
              "    </tr>\n",
              "  </tbody>\n",
              "</table>\n",
              "<p>5 rows × 231 columns</p>\n",
              "</div>"
            ],
            "text/plain": [
              "                           AAPL_close  AAPL_width  AAPL_rsi  AAPL_roc  \\\n",
              "Datetime                                                                \n",
              "2024-10-07 09:58:00-04:00   -1.216057    0.066875  0.192077  0.259513   \n",
              "2024-10-07 10:00:00-04:00   -1.208768    0.035707  0.702009  0.696578   \n",
              "2024-10-07 10:02:00-04:00   -1.165033    0.031650  0.907233  0.954644   \n",
              "2024-10-07 10:04:00-04:00   -1.138307   -0.317699  1.683952  1.552287   \n",
              "2024-10-07 10:06:00-04:00   -1.152884   -0.268748  0.889486  0.601732   \n",
              "\n",
              "                           AAPL_volume  AAPL_diff  AAPL_percent_change_close  \\\n",
              "Datetime                                                                       \n",
              "2024-10-07 09:58:00-04:00    -0.050567   0.298578                   0.304536   \n",
              "2024-10-07 10:00:00-04:00     0.151602   0.150963                   0.153728   \n",
              "2024-10-07 10:02:00-04:00     0.140722   0.889111                   0.907319   \n",
              "2024-10-07 10:04:00-04:00     0.084631   0.544627                   0.555177   \n",
              "2024-10-07 10:06:00-04:00    -0.120821  -0.291880                  -0.298025   \n",
              "\n",
              "                           MSFT_close  MSFT_width  MSFT_rsi  ...  CRWD_volume  \\\n",
              "Datetime                                                     ...                \n",
              "2024-10-07 09:58:00-04:00   -0.655165    0.386624 -0.450473  ...     0.021066   \n",
              "2024-10-07 10:00:00-04:00   -0.631203    0.326259 -0.687622  ...    -0.025342   \n",
              "2024-10-07 10:02:00-04:00   -0.594593    0.007580 -1.030435  ...    -0.135824   \n",
              "2024-10-07 10:04:00-04:00   -0.532021   -0.025249 -0.153460  ...     0.287439   \n",
              "2024-10-07 10:06:00-04:00   -0.579857   -0.054733 -0.205860  ...     0.151807   \n",
              "\n",
              "                           CRWD_diff  CRWD_percent_change_close  TTD_close  \\\n",
              "Datetime                                                                     \n",
              "2024-10-07 09:58:00-04:00   0.211990                   0.223957  -2.270577   \n",
              "2024-10-07 10:00:00-04:00  -0.014603                  -0.016133  -2.322332   \n",
              "2024-10-07 10:02:00-04:00   2.591781                   2.744617  -2.207526   \n",
              "2024-10-07 10:04:00-04:00   2.570765                   2.710947  -2.046310   \n",
              "2024-10-07 10:06:00-04:00  -1.645083                  -1.728753  -2.076500   \n",
              "\n",
              "                           TTD_width   TTD_rsi   TTD_roc  TTD_volume  \\\n",
              "Datetime                                                               \n",
              "2024-10-07 09:58:00-04:00   2.260860 -1.073244 -2.309589   -0.259138   \n",
              "2024-10-07 10:00:00-04:00   1.925329 -0.939352 -1.903225   -0.241118   \n",
              "2024-10-07 10:02:00-04:00   1.688033 -0.455623 -0.928134   -0.166185   \n",
              "2024-10-07 10:04:00-04:00   1.739454  0.004321  0.078583   -0.202408   \n",
              "2024-10-07 10:06:00-04:00   1.337992 -0.384916 -0.790484   -0.153080   \n",
              "\n",
              "                           TTD_diff  TTD_percent_change_close  \n",
              "Datetime                                                       \n",
              "2024-10-07 09:58:00-04:00  2.588407                  2.721711  \n",
              "2024-10-07 10:00:00-04:00 -0.849925                 -0.891245  \n",
              "2024-10-07 10:02:00-04:00  1.860011                  1.951344  \n",
              "2024-10-07 10:04:00-04:00  2.615067                  2.737129  \n",
              "2024-10-07 10:06:00-04:00 -0.499058                 -0.521107  \n",
              "\n",
              "[5 rows x 231 columns]"
            ]
          },
          "execution_count": 14,
          "metadata": {},
          "output_type": "execute_result"
        }
      ],
      "source": [
        "# Concatenate all ticker DataFrames\n",
        "df = pd.concat(ticker_data_frames, axis=1)\n",
        "df.replace([np.inf, -np.inf], np.nan, inplace=True)\n",
        "df.dropna(inplace=True)\n",
        "print(df.shape)\n",
        "df.head()\n"
      ]
    },
    {
      "cell_type": "code",
      "execution_count": null,
      "metadata": {
        "id": "45AKvjm7K8F-"
      },
      "outputs": [],
      "source": []
    },
    {
      "cell_type": "markdown",
      "metadata": {
        "id": "8MAg4zruK8F-"
      },
      "source": [
        "# PLOT DATA"
      ]
    },
    {
      "cell_type": "code",
      "execution_count": null,
      "metadata": {
        "id": "iKq_kS-sK8F-",
        "outputId": "531d5b02-aee5-4527-8f66-fd4218a90743"
      },
      "outputs": [
        {
          "data": {
            "text/html": [
              "<div>\n",
              "<style scoped>\n",
              "    .dataframe tbody tr th:only-of-type {\n",
              "        vertical-align: middle;\n",
              "    }\n",
              "\n",
              "    .dataframe tbody tr th {\n",
              "        vertical-align: top;\n",
              "    }\n",
              "\n",
              "    .dataframe thead th {\n",
              "        text-align: right;\n",
              "    }\n",
              "</style>\n",
              "<table border=\"1\" class=\"dataframe\">\n",
              "  <thead>\n",
              "    <tr style=\"text-align: right;\">\n",
              "      <th></th>\n",
              "      <th>AAPL_close</th>\n",
              "      <th>AAPL_width</th>\n",
              "      <th>AAPL_rsi</th>\n",
              "      <th>AAPL_roc</th>\n",
              "      <th>AAPL_volume</th>\n",
              "      <th>AAPL_diff</th>\n",
              "      <th>AAPL_percent_change_close</th>\n",
              "    </tr>\n",
              "    <tr>\n",
              "      <th>Datetime</th>\n",
              "      <th></th>\n",
              "      <th></th>\n",
              "      <th></th>\n",
              "      <th></th>\n",
              "      <th></th>\n",
              "      <th></th>\n",
              "      <th></th>\n",
              "    </tr>\n",
              "  </thead>\n",
              "  <tbody>\n",
              "    <tr>\n",
              "      <th>2024-09-26 09:30:00-04:00</th>\n",
              "      <td>-0.795976</td>\n",
              "      <td>NaN</td>\n",
              "      <td>NaN</td>\n",
              "      <td>NaN</td>\n",
              "      <td>4.357670</td>\n",
              "      <td>NaN</td>\n",
              "      <td>NaN</td>\n",
              "    </tr>\n",
              "    <tr>\n",
              "      <th>2024-09-26 09:35:00-04:00</th>\n",
              "      <td>-0.891211</td>\n",
              "      <td>NaN</td>\n",
              "      <td>-3.186408</td>\n",
              "      <td>NaN</td>\n",
              "      <td>0.626536</td>\n",
              "      <td>-0.997604</td>\n",
              "      <td>-1.013664</td>\n",
              "    </tr>\n",
              "    <tr>\n",
              "      <th>2024-09-26 09:40:00-04:00</th>\n",
              "      <td>-0.978231</td>\n",
              "      <td>NaN</td>\n",
              "      <td>-3.186408</td>\n",
              "      <td>NaN</td>\n",
              "      <td>0.578061</td>\n",
              "      <td>-0.912237</td>\n",
              "      <td>-0.928402</td>\n",
              "    </tr>\n",
              "    <tr>\n",
              "      <th>2024-09-26 09:45:00-04:00</th>\n",
              "      <td>-0.899371</td>\n",
              "      <td>NaN</td>\n",
              "      <td>-1.332124</td>\n",
              "      <td>NaN</td>\n",
              "      <td>0.901413</td>\n",
              "      <td>0.811672</td>\n",
              "      <td>0.825962</td>\n",
              "    </tr>\n",
              "    <tr>\n",
              "      <th>2024-09-26 09:50:00-04:00</th>\n",
              "      <td>-0.859902</td>\n",
              "      <td>NaN</td>\n",
              "      <td>-0.769403</td>\n",
              "      <td>NaN</td>\n",
              "      <td>0.492358</td>\n",
              "      <td>0.402306</td>\n",
              "      <td>0.408520</td>\n",
              "    </tr>\n",
              "  </tbody>\n",
              "</table>\n",
              "</div>"
            ],
            "text/plain": [
              "                           AAPL_close  AAPL_width  AAPL_rsi  AAPL_roc  \\\n",
              "Datetime                                                                \n",
              "2024-09-26 09:30:00-04:00   -0.795976         NaN       NaN       NaN   \n",
              "2024-09-26 09:35:00-04:00   -0.891211         NaN -3.186408       NaN   \n",
              "2024-09-26 09:40:00-04:00   -0.978231         NaN -3.186408       NaN   \n",
              "2024-09-26 09:45:00-04:00   -0.899371         NaN -1.332124       NaN   \n",
              "2024-09-26 09:50:00-04:00   -0.859902         NaN -0.769403       NaN   \n",
              "\n",
              "                           AAPL_volume  AAPL_diff  AAPL_percent_change_close  \n",
              "Datetime                                                                      \n",
              "2024-09-26 09:30:00-04:00     4.357670        NaN                        NaN  \n",
              "2024-09-26 09:35:00-04:00     0.626536  -0.997604                  -1.013664  \n",
              "2024-09-26 09:40:00-04:00     0.578061  -0.912237                  -0.928402  \n",
              "2024-09-26 09:45:00-04:00     0.901413   0.811672                   0.825962  \n",
              "2024-09-26 09:50:00-04:00     0.492358   0.402306                   0.408520  "
            ]
          },
          "execution_count": 55,
          "metadata": {},
          "output_type": "execute_result"
        }
      ],
      "source": [
        "ticker_data_frames[0].head()"
      ]
    },
    {
      "cell_type": "code",
      "execution_count": null,
      "metadata": {
        "id": "Wpw68ibsK8F_",
        "outputId": "802e85a7-50e9-47d8-e908-8f59c787bd5d"
      },
      "outputs": [
        {
          "data": {
            "text/plain": [
              "Datetime\n",
              "2024-09-26 09:30:00-04:00   -0.795976\n",
              "2024-09-26 09:35:00-04:00   -0.891211\n",
              "2024-09-26 09:40:00-04:00   -0.978231\n",
              "2024-09-26 09:45:00-04:00   -0.899371\n",
              "2024-09-26 09:50:00-04:00   -0.859902\n",
              "Name: AAPL_close, dtype: float64"
            ]
          },
          "execution_count": 91,
          "metadata": {},
          "output_type": "execute_result"
        }
      ],
      "source": [
        "ticker_data_frames[0]['AAPL_close'].head()"
      ]
    },
    {
      "cell_type": "code",
      "execution_count": null,
      "metadata": {
        "id": "q7V4Ea1rK8F_",
        "outputId": "2f04e1c1-1ddd-4a59-e24d-24de922aef3c"
      },
      "outputs": [
        {
          "data": {
            "text/plain": [
              "(1716, 7)"
            ]
          },
          "execution_count": 24,
          "metadata": {},
          "output_type": "execute_result"
        }
      ],
      "source": [
        "ticker_data_frames[0].shape"
      ]
    },
    {
      "cell_type": "code",
      "execution_count": null,
      "metadata": {
        "id": "faD-TSNuK8F_"
      },
      "outputs": [],
      "source": [
        "stats = pd.DataFrame([stats], index=[0])\n",
        "stats.head()"
      ]
    },
    {
      "cell_type": "code",
      "execution_count": null,
      "metadata": {
        "id": "KV65oaWjK8F_",
        "outputId": "5d4c9079-caa3-4e9d-ddbc-bf224ed9cd1c"
      },
      "outputs": [
        {
          "ename": "AttributeError",
          "evalue": "'dict' object has no attribute 'shape'",
          "output_type": "error",
          "traceback": [
            "\u001b[1;31m---------------------------------------------------------------------------\u001b[0m",
            "\u001b[1;31mAttributeError\u001b[0m                            Traceback (most recent call last)",
            "Cell \u001b[1;32mIn[25], line 1\u001b[0m\n\u001b[1;32m----> 1\u001b[0m \u001b[43mstats\u001b[49m\u001b[38;5;241;43m.\u001b[39;49m\u001b[43mshape\u001b[49m\n",
            "\u001b[1;31mAttributeError\u001b[0m: 'dict' object has no attribute 'shape'"
          ]
        }
      ],
      "source": [
        "stats.shape"
      ]
    },
    {
      "cell_type": "code",
      "execution_count": null,
      "metadata": {
        "id": "XuOOgHduK8F_"
      },
      "outputs": [],
      "source": [
        "for i, df in enumerate(ticker_data_frames):\n",
        "    minutes = df.index.strftime(\"%m%d%M\")\n",
        "    closes = df[f'{tickers[i]}_close'].values\n",
        "    dft = pd.DataFrame({'y':closes,'x':minutes})\n",
        "    # df.plot(x=minutes,y=tickers[i]+'_close')\n",
        "    # dft = dft.reset_index()\n",
        "    dft.plot('x','y',title=tickers[i])\n",
        "    # print(df[f'{tickers[i]}_close'].values.size)\n",
        "    # print(minutes.values.size)\n",
        "    # print(dft.head())\n",
        "    # print(minutes.values)"
      ]
    },
    {
      "cell_type": "code",
      "execution_count": null,
      "metadata": {
        "jupyter": {
          "source_hidden": true
        },
        "id": "44bzIGOlK8F_",
        "outputId": "8460d0d5-da1b-4074-e4a5-d8dac7adf0f7"
      },
      "outputs": [
        {
          "name": "stderr",
          "output_type": "stream",
          "text": [
            "[*********************100%***********************]  1 of 1 completed\n",
            "[*********************100%***********************]  1 of 1 completed\n",
            "[*********************100%***********************]  1 of 1 completed\n",
            "[*********************100%***********************]  1 of 1 completed\n",
            "[*********************100%***********************]  1 of 1 completed\n",
            "[*********************100%***********************]  1 of 1 completed\n",
            "[*********************100%***********************]  1 of 1 completed\n",
            "[*********************100%***********************]  1 of 1 completed\n",
            "[*********************100%***********************]  1 of 1 completed\n",
            "[*********************100%***********************]  1 of 1 completed\n",
            "[*********************100%***********************]  1 of 1 completed\n",
            "[*********************100%***********************]  1 of 1 completed\n",
            "[*********************100%***********************]  1 of 1 completed\n",
            "[*********************100%***********************]  1 of 1 completed\n",
            "[*********************100%***********************]  1 of 1 completed\n",
            "[*********************100%***********************]  1 of 1 completed\n",
            "[*********************100%***********************]  1 of 1 completed\n",
            "[*********************100%***********************]  1 of 1 completed\n",
            "[*********************100%***********************]  1 of 1 completed\n",
            "[*********************100%***********************]  1 of 1 completed\n",
            "[*********************100%***********************]  1 of 1 completed\n",
            "[*********************100%***********************]  1 of 1 completed\n",
            "[*********************100%***********************]  1 of 1 completed\n",
            "[*********************100%***********************]  1 of 1 completed\n",
            "[*********************100%***********************]  1 of 1 completed\n",
            "[*********************100%***********************]  1 of 1 completed\n",
            "[*********************100%***********************]  1 of 1 completed\n",
            "[*********************100%***********************]  1 of 1 completed\n",
            "[*********************100%***********************]  1 of 1 completed\n",
            "[*********************100%***********************]  1 of 1 completed\n",
            "[*********************100%***********************]  1 of 1 completed\n",
            "[*********************100%***********************]  1 of 1 completed\n",
            "[*********************100%***********************]  1 of 1 completed\n"
          ]
        }
      ],
      "source": [
        "ticker_data_frames = []\n",
        "stats = {}\n",
        "for ticker in tickers:\n",
        "\n",
        "    # Download historical data for the ticker\n",
        "    data = yf.download(ticker, period=\"1mo\", interval=\"2m\")\n",
        "\n",
        "    # Calculate the daily percentage change\n",
        "    close = data['Close']\n",
        "    upper, lower = calculate_bollinger_bands(close, window=14, num_of_std=2)\n",
        "    width = upper - lower\n",
        "    rsi = calculate_rsi(close, window=14)\n",
        "    roc = calculate_roc(close, periods=14)\n",
        "    volume = data['Volume']\n",
        "    diff = data['Close'].diff(1)\n",
        "    percent_change_close = data['Close'].pct_change() * 100\n",
        "\n",
        "    # Create a DataFrame for the current ticker and append it to the list\n",
        "    ticker_df = pd.DataFrame({\n",
        "        ticker+'_close': close,\n",
        "        ticker+'_width': width,\n",
        "        ticker+'_rsi': rsi,\n",
        "        ticker+'_roc': roc,\n",
        "        ticker+'_volume': volume,\n",
        "        ticker+'_diff': diff,\n",
        "        ticker+'_percent_change_close': percent_change_close,\n",
        "    })\n",
        "\n",
        "    MEAN = ticker_df.mean()\n",
        "    STD = ticker_df.std()\n",
        "\n",
        "    # Keep track of mean and std\n",
        "    for column in MEAN.index:\n",
        "      stats[f\"{column}_mean\"] = MEAN[column]\n",
        "      stats[f\"{column}_std\"] = STD[column]\n",
        "\n",
        "    # Normalize the training features\n",
        "    ticker_df = (ticker_df - MEAN) / STD\n",
        "\n",
        "    ticker_data_frames.append(ticker_df)"
      ]
    },
    {
      "cell_type": "code",
      "execution_count": null,
      "metadata": {
        "id": "ai4p_v5mK8GA"
      },
      "outputs": [],
      "source": [
        "stats = pd.DataFrame([stats], index=[0])\n",
        "stats.head()"
      ]
    },
    {
      "cell_type": "code",
      "execution_count": null,
      "metadata": {
        "id": "D8x9ebGjK8GA"
      },
      "outputs": [],
      "source": [
        "def mlp_model(X, Y):\n",
        "\n",
        "    estimator=MLPRegressor()\n",
        "\n",
        "    params = np.arange(10,25,1)\n",
        "    jls = [(2*p,p,p) for p in params]\n",
        "    param_grid = {'hidden_layer_sizes': jls,\n",
        "          'activation': ['relu','tanh','logistic'],\n",
        "          'alpha': [0.001, 0.0001, 0.05],\n",
        "          'learning_rate': ['constant','adaptive'],\n",
        "          'solver': ['adam'],\n",
        "           'batch_size':[16,32,64],\n",
        "            'shuffle: [False]\n",
        "                 }\n",
        "\n",
        "    gsc = GridSearchCV(\n",
        "    estimator,\n",
        "    param_grid,\n",
        "    cv=5, scoring='neg_mean_squared_error', verbose=0, n_jobs=-1)\n",
        "\n",
        "    grid_result = gsc.fit(X, Y)\n",
        "\n",
        "\n",
        "    best_params = grid_result.best_params_\n",
        "\n",
        "    best_mlp = MLPRegressor(hidden_layer_sizes = best_params[\"hidden_layer_sizes\"],\n",
        "                        activation =best_params[\"activation\"],\n",
        "                        solver=best_params[\"solver\"],\n",
        "                        max_iter= 5000, n_iter_no_change = 200\n",
        "              )\n",
        "\n",
        "    scoring = {\n",
        "           'abs_error': 'neg_mean_absolute_error',\n",
        "           'squared_error': 'neg_mean_squared_error',\n",
        "           'r2':'r2'}\n",
        "\n",
        "    scores = cross_validate(best_mlp, X, Y, cv=10, scoring=scoring, return_train_score=True, return_estimator = True)\n",
        "return best_params, scores\n"
      ]
    },
    {
      "cell_type": "code",
      "execution_count": null,
      "metadata": {
        "id": "zcduNyUUK8GA"
      },
      "outputs": [],
      "source": []
    },
    {
      "cell_type": "markdown",
      "metadata": {
        "id": "3LyPCsl5K8GA"
      },
      "source": [
        "- Use the mean squared error (MSE) as cross-validation loss."
      ]
    },
    {
      "cell_type": "code",
      "execution_count": null,
      "metadata": {
        "id": "q21JUvHhK8GA"
      },
      "outputs": [],
      "source": [
        "def cross_validation_loss(hidden_neurons, Xtrain, ytrain):\n",
        "\n",
        "    mse = []\n",
        "\n",
        "    for train_split_, valid_split_ in tscv.split(Xtrain):\n",
        "\n",
        "        X_train_, y_train_ = X_train[train_split_], ytrain[train_split_]\n",
        "        X_valid_, y_valid_ = X_train[valid_split_], ytrain[valid_split_]\n",
        "\n",
        "        mlp = MLPRegressor(hidden_layer_sizes=(2*hidden_neurons,hidden_neurons, hidden_neurons,), max_iter=5000,\n",
        "                           activation='relu', optimizer='RMSProp', learning_rate_init=0.001, alpha=0.00001, random_state=1, shuffle=False)\n",
        "\n",
        "        mlp.fit(X_train_, y_train_)\n",
        "\n",
        "        mse.append(mean_squared_error(y_valid_, mlp.predict(X_valid_)))\n",
        "\n",
        "    return np.mean(mse)"
      ]
    },
    {
      "cell_type": "code",
      "execution_count": null,
      "metadata": {
        "scrolled": true,
        "id": "FnIPgn_FK8GA",
        "outputId": "ffb16e25-4cbc-4dc4-a64f-000c26cc923d"
      },
      "outputs": [
        {
          "ename": "TypeError",
          "evalue": "MLPRegressor.__init__() got an unexpected keyword argument 'optimizer'",
          "output_type": "error",
          "traceback": [
            "\u001b[1;31m---------------------------------------------------------------------------\u001b[0m",
            "\u001b[1;31mTypeError\u001b[0m                                 Traceback (most recent call last)",
            "Cell \u001b[1;32mIn[83], line 22\u001b[0m\n\u001b[0;32m     20\u001b[0m \u001b[38;5;66;03m# params = [10,15, 16, 17, 18, 19 ,20,21,22,23,24,25,30,35,40,45,50,55,60,65,75]\u001b[39;00m\n\u001b[0;32m     21\u001b[0m params \u001b[38;5;241m=\u001b[39m np\u001b[38;5;241m.\u001b[39marange(\u001b[38;5;241m10\u001b[39m,\u001b[38;5;241m25\u001b[39m,\u001b[38;5;241m1\u001b[39m)\n\u001b[1;32m---> 22\u001b[0m mse \u001b[38;5;241m=\u001b[39m [cross_validation_loss(p, X_train,y_train) \u001b[38;5;28;01mfor\u001b[39;00m p \u001b[38;5;129;01min\u001b[39;00m params]\n\u001b[0;32m     23\u001b[0m minMSE \u001b[38;5;241m=\u001b[39m params[np\u001b[38;5;241m.\u001b[39margmin(mse)]\n\u001b[0;32m     24\u001b[0m mlp \u001b[38;5;241m=\u001b[39m MLPRegressor(hidden_layer_sizes\u001b[38;5;241m=\u001b[39m(\u001b[38;5;241m2\u001b[39m\u001b[38;5;241m*\u001b[39mminMSE,minMSE,minMSE,), max_iter\u001b[38;5;241m=\u001b[39m\u001b[38;5;241m5000\u001b[39m, random_state\u001b[38;5;241m=\u001b[39m\u001b[38;5;241m1\u001b[39m,\n\u001b[0;32m     25\u001b[0m                    activation\u001b[38;5;241m=\u001b[39m\u001b[38;5;124m'\u001b[39m\u001b[38;5;124mrelu\u001b[39m\u001b[38;5;124m'\u001b[39m, optimizer\u001b[38;5;241m=\u001b[39m\u001b[38;5;124m'\u001b[39m\u001b[38;5;124mRMSProp\u001b[39m\u001b[38;5;124m'\u001b[39m, learning_rate_init\u001b[38;5;241m=\u001b[39m\u001b[38;5;241m0.001\u001b[39m, alpha\u001b[38;5;241m=\u001b[39m\u001b[38;5;241m0.00001\u001b[39m,shuffle\u001b[38;5;241m=\u001b[39m\u001b[38;5;28;01mFalse\u001b[39;00m)  \n",
            "Cell \u001b[1;32mIn[83], line 22\u001b[0m, in \u001b[0;36m<listcomp>\u001b[1;34m(.0)\u001b[0m\n\u001b[0;32m     20\u001b[0m \u001b[38;5;66;03m# params = [10,15, 16, 17, 18, 19 ,20,21,22,23,24,25,30,35,40,45,50,55,60,65,75]\u001b[39;00m\n\u001b[0;32m     21\u001b[0m params \u001b[38;5;241m=\u001b[39m np\u001b[38;5;241m.\u001b[39marange(\u001b[38;5;241m10\u001b[39m,\u001b[38;5;241m25\u001b[39m,\u001b[38;5;241m1\u001b[39m)\n\u001b[1;32m---> 22\u001b[0m mse \u001b[38;5;241m=\u001b[39m [\u001b[43mcross_validation_loss\u001b[49m\u001b[43m(\u001b[49m\u001b[43mp\u001b[49m\u001b[43m,\u001b[49m\u001b[43m \u001b[49m\u001b[43mX_train\u001b[49m\u001b[43m,\u001b[49m\u001b[43my_train\u001b[49m\u001b[43m)\u001b[49m \u001b[38;5;28;01mfor\u001b[39;00m p \u001b[38;5;129;01min\u001b[39;00m params]\n\u001b[0;32m     23\u001b[0m minMSE \u001b[38;5;241m=\u001b[39m params[np\u001b[38;5;241m.\u001b[39margmin(mse)]\n\u001b[0;32m     24\u001b[0m mlp \u001b[38;5;241m=\u001b[39m MLPRegressor(hidden_layer_sizes\u001b[38;5;241m=\u001b[39m(\u001b[38;5;241m2\u001b[39m\u001b[38;5;241m*\u001b[39mminMSE,minMSE,minMSE,), max_iter\u001b[38;5;241m=\u001b[39m\u001b[38;5;241m5000\u001b[39m, random_state\u001b[38;5;241m=\u001b[39m\u001b[38;5;241m1\u001b[39m,\n\u001b[0;32m     25\u001b[0m                    activation\u001b[38;5;241m=\u001b[39m\u001b[38;5;124m'\u001b[39m\u001b[38;5;124mrelu\u001b[39m\u001b[38;5;124m'\u001b[39m, optimizer\u001b[38;5;241m=\u001b[39m\u001b[38;5;124m'\u001b[39m\u001b[38;5;124mRMSProp\u001b[39m\u001b[38;5;124m'\u001b[39m, learning_rate_init\u001b[38;5;241m=\u001b[39m\u001b[38;5;241m0.001\u001b[39m, alpha\u001b[38;5;241m=\u001b[39m\u001b[38;5;241m0.00001\u001b[39m,shuffle\u001b[38;5;241m=\u001b[39m\u001b[38;5;28;01mFalse\u001b[39;00m)  \n",
            "Cell \u001b[1;32mIn[82], line 10\u001b[0m, in \u001b[0;36mcross_validation_loss\u001b[1;34m(hidden_neurons, Xtrain, ytrain)\u001b[0m\n\u001b[0;32m      7\u001b[0m X_train_, y_train_ \u001b[38;5;241m=\u001b[39m X_train[train_split_], ytrain[train_split_]\n\u001b[0;32m      8\u001b[0m X_valid_, y_valid_ \u001b[38;5;241m=\u001b[39m X_train[valid_split_], ytrain[valid_split_] \n\u001b[1;32m---> 10\u001b[0m mlp \u001b[38;5;241m=\u001b[39m \u001b[43mMLPRegressor\u001b[49m\u001b[43m(\u001b[49m\u001b[43mhidden_layer_sizes\u001b[49m\u001b[38;5;241;43m=\u001b[39;49m\u001b[43m(\u001b[49m\u001b[38;5;241;43m2\u001b[39;49m\u001b[38;5;241;43m*\u001b[39;49m\u001b[43mhidden_neurons\u001b[49m\u001b[43m,\u001b[49m\u001b[43mhidden_neurons\u001b[49m\u001b[43m,\u001b[49m\u001b[43m \u001b[49m\u001b[43mhidden_neurons\u001b[49m\u001b[43m,\u001b[49m\u001b[43m)\u001b[49m\u001b[43m,\u001b[49m\u001b[43m \u001b[49m\u001b[43mmax_iter\u001b[49m\u001b[38;5;241;43m=\u001b[39;49m\u001b[38;5;241;43m5000\u001b[39;49m\u001b[43m,\u001b[49m\u001b[43m \u001b[49m\n\u001b[0;32m     11\u001b[0m \u001b[43m                   \u001b[49m\u001b[43mactivation\u001b[49m\u001b[38;5;241;43m=\u001b[39;49m\u001b[38;5;124;43m'\u001b[39;49m\u001b[38;5;124;43mrelu\u001b[39;49m\u001b[38;5;124;43m'\u001b[39;49m\u001b[43m,\u001b[49m\u001b[43m \u001b[49m\u001b[43moptimizer\u001b[49m\u001b[38;5;241;43m=\u001b[39;49m\u001b[38;5;124;43m'\u001b[39;49m\u001b[38;5;124;43mRMSProp\u001b[39;49m\u001b[38;5;124;43m'\u001b[39;49m\u001b[43m,\u001b[49m\u001b[43m \u001b[49m\u001b[43mlearning_rate_init\u001b[49m\u001b[38;5;241;43m=\u001b[39;49m\u001b[38;5;241;43m0.001\u001b[39;49m\u001b[43m,\u001b[49m\u001b[43m \u001b[49m\u001b[43malpha\u001b[49m\u001b[38;5;241;43m=\u001b[39;49m\u001b[38;5;241;43m0.00001\u001b[39;49m\u001b[43m,\u001b[49m\u001b[43m \u001b[49m\u001b[43mrandom_state\u001b[49m\u001b[38;5;241;43m=\u001b[39;49m\u001b[38;5;241;43m1\u001b[39;49m\u001b[43m,\u001b[49m\u001b[43m \u001b[49m\u001b[43mshuffle\u001b[49m\u001b[38;5;241;43m=\u001b[39;49m\u001b[38;5;28;43;01mFalse\u001b[39;49;00m\u001b[43m)\u001b[49m\n\u001b[0;32m     13\u001b[0m mlp\u001b[38;5;241m.\u001b[39mfit(X_train_, y_train_)\n\u001b[0;32m     15\u001b[0m mse\u001b[38;5;241m.\u001b[39mappend(mean_squared_error(y_valid_, mlp\u001b[38;5;241m.\u001b[39mpredict(X_valid_)))\n",
            "\u001b[1;31mTypeError\u001b[0m: MLPRegressor.__init__() got an unexpected keyword argument 'optimizer'"
          ]
        }
      ],
      "source": [
        "k = 5\n",
        "total_mse = 0\n",
        "scores = []\n",
        "for i,odf in enumerate(ticker_data_frames):\n",
        "    columns = list(odf.columns.values)\n",
        "    newColumns = columns[1:k]\n",
        "    newColumns.append(columns[0])\n",
        "    df = odf[newColumns]\n",
        "    df.replace([np.inf, -np.inf], np.nan, inplace=True)\n",
        "    df.dropna(inplace=True)\n",
        "    df = df.iloc[:-1]\n",
        "    # print(df.head())\n",
        "    Z = df.to_numpy()\n",
        "    split = np.int32(0.8 * Z.shape[0])\n",
        "    Z_train, Z_test = Z[:split, :], Z[split:, :]\n",
        "    scaler = StandardScaler().fit(Z_train)\n",
        "    Z_train = scaler.transform(Z_train)\n",
        "    Z_test = scaler.transform(Z_test)\n",
        "    X_train, y_train = Z_train[:, :-1], Z_train[:, -1]\n",
        "    X_test, y_test = Z_test[:, :-1], Z_test[:, -1]\n",
        "    params, errors = mlp_model(X_train, y_train)\n",
        "    mlp = MLPRegressor(hidden_layer_sizes = params[\"hidden_layer_sizes\"],\n",
        "                    activation =params[\"activation\"],\n",
        "                    solver=params[\"solver\"],\n",
        "                    max_iter= 5000, n_iter_no_change = 200\n",
        "\n",
        "    # params = [10,15, 16, 17, 18, 19 ,20,21,22,23,24,25,30,35,40,45,50,55,60,65,75]\n",
        "    # params = np.arange(10,25,1)\n",
        "    # mse = [cross_validation_loss(p, X_train,y_train) for p in params]\n",
        "    # minMSE = params[np.argmin(mse)]\n",
        "    # mlp = MLPRegressor(hidden_layer_sizes=(2*minMSE,minMSE,minMSE,), max_iter=5000, random_state=1,\n",
        "    #                    activation='relu', learning_rate_init=0.001, alpha=0.00001,shuffle=False)\n",
        "    print(f'minMSE: {minMSE}  df.shape {df.shape} {stats.iloc[0][0:2]} {stats.iloc[0][0]}    {stats.iloc[0][1]}')\n",
        "    mean_close =stats.iloc[0][0]\n",
        "    mean_std = stats.iloc[0][1]\n",
        "    mlp.fit(X_train, y_train)\n",
        "    y_pred = mlp.predict(X_test)\n",
        "    y_test_ = (scaler.inverse_transform(np.hstack([X_test, y_test.reshape(-1, 1)]))[:, -1] * mean_std) + mean_close\n",
        "    y_pred_ = (scaler.inverse_transform(np.hstack([X_test, y_pred.reshape(-1, 1)]))[:, -1] * mean_std) + mean_close\n",
        "    mse_ = mean_squared_error(y_test_, y_pred_)\n",
        "    total_mse += mse_\n",
        "    print(f'mean squared error {mse_}')\n",
        "    fig, ax = plt.subplots()\n",
        "    plt.xlabel(tickers[i])\n",
        "    plt.ylabel(f'{tickers[i]} close')\n",
        "    plt.title(f'2 minute {tickers[i]}')\n",
        "    # plt.plot(df[f'{tickers[i]}_close'], color='black', label='Training Data')\n",
        "    plt.plot(pd.Series(y_test_, index=odf.index[-len(y_test):]), color='blue', label='Test Data')\n",
        "    plt.plot(pd.Series(y_pred_, index=odf.index[-len(y_test):]), color='red', label=f'Forecast {tickers[i]}')\n",
        "    plt.legend(bbox_to_anchor=(1.05, 1))\n",
        "    ax.xaxis.set_major_formatter(DateFormatter('%D'))\n",
        "    plt.show()\n",
        "    # break\n",
        "print(total_mse)"
      ]
    },
    {
      "cell_type": "markdown",
      "metadata": {
        "id": "lipVAmyhK8GB"
      },
      "source": [
        "- Calculate the cross validation loss corresponding to different numbers of hidden nodes."
      ]
    },
    {
      "cell_type": "code",
      "execution_count": null,
      "metadata": {
        "id": "xbvE0mbXK8GB"
      },
      "outputs": [],
      "source": [
        "params = [10,15,20,25,30,35,40,45,50,55,60,65,75]\n",
        "mse = [cross_validation_loss(p) for p in params]"
      ]
    },
    {
      "cell_type": "code",
      "execution_count": null,
      "metadata": {
        "id": "M4OD4cqIK8GB",
        "outputId": "59b8dc71-ff26-4c2d-82c5-d0f0fe3b7790"
      },
      "outputs": [
        {
          "data": {
            "text/plain": [
              "[<matplotlib.lines.Line2D at 0x195200cd8d0>]"
            ]
          },
          "execution_count": 29,
          "metadata": {},
          "output_type": "execute_result"
        },
        {
          "data": {
            "image/png": "[encoded data removed]",
            "text/plain": [
              "<Figure size 640x480 with 1 Axes>"
            ]
          },
          "metadata": {},
          "output_type": "display_data"
        }
      ],
      "source": [
        "fig, ax = plt.subplots()\n",
        "plt.xlabel('Hidden Nodes')\n",
        "plt.ylabel('Mean Squared Error (MSE)')\n",
        "plt.title('5-Fold Cross Validation Loss')\n",
        "plt.plot(params, mse, '-o')"
      ]
    },
    {
      "cell_type": "markdown",
      "metadata": {
        "id": "0qEMPyCkK8GB"
      },
      "source": [
        "- Find the number of hidden nodes associated with the smallest cross validation loss."
      ]
    },
    {
      "cell_type": "code",
      "execution_count": null,
      "metadata": {
        "id": "TLr4tvrfK8GB",
        "outputId": "f0ce4a88-140e-4d6b-d0f9-18f1033f0141"
      },
      "outputs": [
        {
          "data": {
            "text/plain": [
              "50"
            ]
          },
          "execution_count": 30,
          "metadata": {},
          "output_type": "execute_result"
        }
      ],
      "source": [
        "params[np.argmin(mse)]"
      ]
    },
    {
      "cell_type": "code",
      "execution_count": null,
      "metadata": {
        "id": "DLMgsA6RK8GC",
        "outputId": "e9881986-60e8-465e-e079-b2617488ad79"
      },
      "outputs": [
        {
          "data": {
            "text/plain": [
              "array([-1.5670949 , -1.44568393, -1.28012353, -1.34634769, -1.45672129,\n",
              "       -1.19182465, -0.96004009, -0.96004009, -1.09248841, -1.36842241,\n",
              "       -1.57813226, -1.29116089, -1.23597409, -1.18078729, -0.87174121,\n",
              "       -1.03730161, -0.93796537, -0.87174121, -0.63995665, -0.63995665,\n",
              "       -0.80551705, -1.04833897, -1.22493673, -1.00418953, -0.94900273,\n",
              "       -0.84966649, -0.70618081, -0.83862913, -0.81655441, -0.43024681,\n",
              "       -0.29779849, -0.16535017, -0.52958305, -0.72825553, -0.93796537,\n",
              "       -0.69514345, -0.67306873, -0.67306873, -0.23157433, -0.24261169,\n",
              "       -0.30883585, -0.15431281,  0.07747176,  0.16577064, -0.22053697,\n",
              "       -0.50750833, -0.84966649, -0.61788193, -0.58476985, -0.76136761,\n",
              "       -0.24261169, -0.33091057, -0.25364905,  0.07747176,  0.49689144,\n",
              "        0.3975552 ,  0.02228496, -0.30883585, -0.59580721, -0.30883585,\n",
              "       -0.16535017, -0.26468641,  0.11058384,  0.13265856,  0.14369592,\n",
              "        0.64037712,  1.18120776,  0.99357264,  0.60726504,  0.18784536,\n",
              "       -0.22053697,  0.2319948 ,  0.29821896,  0.22095744,  0.66245184,\n",
              "        0.6183024 ,  0.6734892 ,  1.29158136,  1.72203841,  1.63373953,\n",
              "        1.08187152,  0.54104088,  0.15473328,  0.54104088,  0.64037712,\n",
              "        0.48585408,  1.09290888,  1.00461   ,  1.08187152,  1.82137465,\n",
              "        2.29598113,  2.31805585,  1.62270217,  0.99357264,  0.53000352,\n",
              "        0.87216168,  0.91631112,  0.6734892 ,  1.15913304,  1.00461   ,\n",
              "        1.1701704 ,  1.96486033,  2.58295249,  2.73747553,  1.62270217])"
            ]
          },
          "execution_count": 35,
          "metadata": {},
          "output_type": "execute_result"
        }
      ],
      "source": [
        "y_train"
      ]
    },
    {
      "cell_type": "markdown",
      "metadata": {
        "id": "f7tenZ5CK8GC"
      },
      "source": [
        "- Fit an MLP model with 50 hidden nodes to the training data."
      ]
    },
    {
      "cell_type": "code",
      "execution_count": null,
      "metadata": {
        "id": "zKa0Yf8_K8GC"
      },
      "outputs": [],
      "source": [
        "mlp = MLPRegressor(hidden_layer_sizes=(50,), max_iter=500, random_state=1, shuffle=False)"
      ]
    },
    {
      "cell_type": "code",
      "execution_count": null,
      "metadata": {
        "id": "jiHzV03qK8GC"
      },
      "outputs": [],
      "source": [
        "mlp.fit(X_train, y_train)"
      ]
    },
    {
      "cell_type": "markdown",
      "metadata": {
        "id": "bOA-96oTK8GD"
      },
      "source": [
        "- Use the fitted MLP model to forecast the test data."
      ]
    },
    {
      "cell_type": "code",
      "execution_count": null,
      "metadata": {
        "id": "wG0fUjj2K8GD"
      },
      "outputs": [],
      "source": [
        "y_pred = mlp.predict(X_test)"
      ]
    },
    {
      "cell_type": "markdown",
      "metadata": {
        "id": "LDxv8ynYK8GD"
      },
      "source": [
        "- Transform the data back to the original scale."
      ]
    },
    {
      "cell_type": "code",
      "execution_count": null,
      "metadata": {
        "id": "wi2SyYlAK8GD"
      },
      "outputs": [],
      "source": [
        "y_test_ = scaler.inverse_transform(np.hstack([X_test, y_test.reshape(-1, 1)]))[:, -1]\n",
        "y_pred_ = scaler.inverse_transform(np.hstack([X_test, y_pred.reshape(-1, 1)]))[:, -1]"
      ]
    },
    {
      "cell_type": "markdown",
      "metadata": {
        "id": "JIEKGEkrK8GE"
      },
      "source": [
        "- Plot the data and the forecasts in the original scale."
      ]
    },
    {
      "cell_type": "code",
      "execution_count": null,
      "metadata": {
        "scrolled": true,
        "id": "k06Qf6cgK8GE"
      },
      "outputs": [],
      "source": [
        "fig, ax = plt.subplots()\n",
        "plt.xlabel('Year: 1949-1960')\n",
        "plt.ylabel('Monthly Passengers (1000s)')\n",
        "plt.title('Monthly Intl Air Passengers')\n",
        "plt.plot(df.iloc[:(k + len(y_train) + 1), :], color='black', label='Training Data')\n",
        "plt.plot(pd.Series(y_test_, index=df.index[-len(y_test):]), color='blue', label='Test Data')\n",
        "plt.plot(pd.Series(y_pred_, index=df.index[-len(y_test):]), color='red', label='Forecast (50 hidden nodes)')\n",
        "plt.legend(bbox_to_anchor=(1.05, 1))\n",
        "ax.xaxis.set_major_formatter(DateFormatter('%Y'))"
      ]
    },
    {
      "cell_type": "markdown",
      "metadata": {
        "id": "BLWKRWxjK8GE"
      },
      "source": [
        "# CLEAN UP\n",
        "\n",
        "- If desired, clear the results with Cell > All Output > Clear.\n",
        "- Save your work by selecting File > Save and Checkpoint.\n",
        "- Shut down the Python kernel and close the file by selecting File > Close and Halt."
      ]
    }
  ],
  "metadata": {
    "kernelspec": {
      "display_name": "Python 3 (ipykernel)",
      "language": "python",
      "name": "python3"
    },
    "language_info": {
      "codemirror_mode": {
        "name": "ipython",
        "version": 3
      },
      "file_extension": ".py",
      "mimetype": "text/x-python",
      "name": "python",
      "nbconvert_exporter": "python",
      "pygments_lexer": "ipython3",
      "version": "3.11.5"
    },
    "colab": {
      "provenance": []
    }
  },
  "nbformat": 4,
  "nbformat_minor": 0
}
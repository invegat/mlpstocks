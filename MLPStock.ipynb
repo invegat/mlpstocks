{
 "cells": [
  {
   "cell_type": "markdown",
   "metadata": {
    "id": "1TOD732-K8Fy"
   },
   "source": [
    "**File:** MLPStock.ipynb\n",
    "\n",
    "**Mark Oliver\n",
    "**Adapted from the LinkedIn Course: Data Science Foundations: Data Mining in Python file MLP.ipynb and from\n",
    "**https://medium.com/@Matthew_Frank/stock-price-prediction-using-transformers-2d84341ff213\n",
    "**file StockPricePredictionUsingTransformers.ipynb\n",
    "**https://colab.research.google.com/drive/1j3AYSIxhiNJSCP692pKPbLk4_-kG4Pmh?usp=sharing"
   ]
  },
  {
   "cell_type": "markdown",
   "metadata": {
    "id": "yeEf_v18K8F2"
   },
   "source": [
    "# IMPORT LIBRARIES"
   ]
  },
  {
   "cell_type": "raw",
   "metadata": {
    "id": "pda0by9AK8F3"
   },
   "source": [
    "data-gramm=\"false\""
   ]
  },
  {
   "cell_type": "code",
   "execution_count": null,
   "metadata": {
    "tags": []
   },
   "outputs": [],
   "source": [
    "%pip install yfinance"
   ]
  },
  {
   "cell_type": "code",
   "execution_count": 1,
   "metadata": {
    "id": "gl5OmErzK8F3",
    "tags": []
   },
   "outputs": [],
   "source": [
    "import yfinance as yf\n",
    "import pandas as pd\n",
    "import numpy as np\n",
    "from matplotlib import pyplot as plt\n",
    "from matplotlib.dates import DateFormatter\n",
    "from sklearn.neural_network import MLPRegressor\n",
    "from sklearn.model_selection import TimeSeriesSplit\n",
    "from sklearn.metrics import mean_squared_error\n",
    "from sklearn.preprocessing import StandardScaler\n",
    "from sklearn.model_selection import cross_validate\n",
    "import datetime as dt\n",
    "import warnings\n",
    "warnings.filterwarnings('ignore')\n",
    "# import itertools\n",
    "# from itertools import product"
   ]
  },
  {
   "cell_type": "code",
   "execution_count": 2,
   "metadata": {
    "id": "ONBGZhhSK8F5",
    "tags": []
   },
   "outputs": [],
   "source": [
    "def calculate_bollinger_bands(data, window=35, num_of_std=2):\n",
    "    \"\"\"Calculate Bollinger Bands\"\"\"\n",
    "    rolling_mean = data.rolling(window=window).mean()\n",
    "    rolling_std = data.rolling(window=window).std()\n",
    "    # print(f'rolling_mean {rolling_mean}   rolling_str {rolling_std}')\n",
    "    upper_band = rolling_mean + (rolling_std * num_of_std)\n",
    "    lower_band = rolling_mean - (rolling_std * num_of_std)\n",
    "    return upper_band, lower_band\n",
    "\n",
    "def calculate_rsi(data, window=35):\n",
    "    \"\"\"Calculate Relative Strength Index\"\"\"\n",
    "    delta = data.diff()\n",
    "    gain = delta.clip(lower=0)\n",
    "    loss = -delta.clip(upper=0)\n",
    "    avg_gain = gain.rolling(window=window, min_periods=1).mean()\n",
    "    avg_loss = loss.rolling(window=window, min_periods=1).mean()\n",
    "    rs = avg_gain / avg_loss\n",
    "    rsi = 100 - (100 / (1 + rs))\n",
    "    return rsi\n",
    "\n",
    "def calculate_roc(data, periods=35):\n",
    "    \"\"\"Calculate Rate of Change.\"\"\"\n",
    "    roc = ((data - data.shift(periods)) / data.shift(periods)) * 100\n",
    "    return roc"
   ]
  },
  {
   "cell_type": "code",
   "execution_count": 3,
   "metadata": {
    "id": "j3HVFDcxK8F5",
    "tags": []
   },
   "outputs": [],
   "source": [
    "tickers = [\"AAPL\", \"MSFT\", \"AMZN\", \"NVDA\", \"TSLA\", \"GOOG\", \"GOOGL\",  \"BRK-B\",\"META\",\\\n",
    "          \"UNH\", \"V\", \"XOM\", \"JPM\", \"JNJ\", \"WMT\", \"MA\", \"PG\", \"CVX\", \"HD\", \"LLY\", \"ABBV\", \\\n",
    "         \"BAC\", \"MRK\", \"AVGO\", \"KO\", \"ORCL\", \"PEP\", \"PFE\", \"TMO\", \"COST\", \"QQQ\", \"CRWD\", \"TTD\"]"
   ]
  },
  {
   "cell_type": "code",
   "execution_count": 4,
   "metadata": {
    "colab": {
     "base_uri": "https://localhost:8080/"
    },
    "id": "OuERD-zRK8F6",
    "outputId": "46c2479d-50cd-452b-9718-13a631871fc9",
    "tags": []
   },
   "outputs": [
    {
     "name": "stdout",
     "output_type": "stream",
     "text": [
      "33\n"
     ]
    }
   ],
   "source": [
    "print(len(tickers))"
   ]
  },
  {
   "cell_type": "code",
   "execution_count": null,
   "metadata": {
    "colab": {
     "base_uri": "https://localhost:8080/"
    },
    "id": "eTqg_ImLK8F7",
    "outputId": "1336365c-7720-4811-8f95-8151e11213c0"
   },
   "outputs": [],
   "source": [
    "yf.Ticker('BRK_B')"
   ]
  },
  {
   "cell_type": "code",
   "execution_count": null,
   "metadata": {
    "colab": {
     "base_uri": "https://localhost:8080/"
    },
    "id": "W9Hl-4NIK8F8",
    "outputId": "dfd29a7f-bc8d-4cd8-da38-c3d13fe3a7e5"
   },
   "outputs": [],
   "source": [
    "tdata = yf.download(\"BRK-B\", period=\"1mo\", interval=\"2m\")"
   ]
  },
  {
   "cell_type": "code",
   "execution_count": null,
   "metadata": {
    "colab": {
     "base_uri": "https://localhost:8080/"
    },
    "id": "WgWJGxIKK8F8",
    "outputId": "920249d2-84f2-43c2-f4a8-237ff21b9245"
   },
   "outputs": [],
   "source": [
    "tdata.shape"
   ]
  },
  {
   "cell_type": "code",
   "execution_count": null,
   "metadata": {
    "colab": {
     "base_uri": "https://localhost:8080/",
     "height": 269
    },
    "id": "liZ_zmR0K8F8",
    "outputId": "6457dde0-2fea-4662-9470-f1c6b26bbc6e"
   },
   "outputs": [],
   "source": [
    "tdata.head()"
   ]
  },
  {
   "cell_type": "code",
   "execution_count": null,
   "metadata": {
    "colab": {
     "base_uri": "https://localhost:8080/",
     "height": 426
    },
    "id": "EkcyT8VRK8F9",
    "outputId": "690b1bc3-7653-4fc5-a257-744493b180ab"
   },
   "outputs": [],
   "source": [
    "ticker_data_frames = []\n",
    "stats = {}\n",
    "for ticker in tickers:\n",
    "\n",
    "    # Download historical data for the ticker\n",
    "    data = yf.download(ticker, period=\"1mo\", interval=\"2m\")\n",
    "\n",
    "    # Calculate the daily percentage change\n",
    "    close = data['Close']\n",
    "    upper, lower = calculate_bollinger_bands(close, window=14, num_of_std=2)\n",
    "    width = upper - lower\n",
    "    rsi = calculate_rsi(close, window=14)\n",
    "    roc = calculate_roc(close, periods=14)\n",
    "    volume = data['Volume']\n",
    "    diff = data['Close'].diff(1)\n",
    "    percent_change_close = data['Close'].pct_change() * 100\n",
    "\n",
    "    # Create a DataFrame for the current ticker and append it to the list\n",
    "    ticker_df = pd.DataFrame({\n",
    "        ticker+'_close': close,\n",
    "        ticker+'_width': width,\n",
    "        ticker+'_rsi': rsi,\n",
    "        ticker+'_roc': roc,\n",
    "        ticker+'_volume': volume,\n",
    "        ticker+'_diff': diff,\n",
    "        ticker+'_percent_change_close': percent_change_close\n",
    "    })\n",
    "\n",
    "    MEAN = ticker_df.mean()\n",
    "    STD = ticker_df.std()\n",
    "\n",
    "    # Keep track of mean and std\n",
    "    for column in MEAN.index:\n",
    "      stats[f\"{column}_mean\"] = MEAN[column]\n",
    "      stats[f\"{column}_std\"] = STD[column]\n",
    "\n",
    "    # Normalize the training features\n",
    "    ticker_df = (ticker_df - MEAN) / STD\n",
    "\n",
    "    ticker_data_frames.append(ticker_df)"
   ]
  },
  {
   "cell_type": "code",
   "execution_count": 82,
   "metadata": {
    "id": "lzMmW_SIK8F9",
    "tags": []
   },
   "outputs": [],
   "source": [
    "import pandas as pd\n",
    "import numpy as np\n",
    "from matplotlib import pyplot as plt\n",
    "from matplotlib.dates import DateFormatter\n",
    "import matplotlib.dates as mdates\n",
    "from sklearn.neural_network import MLPRegressor\n",
    "from sklearn.model_selection import TimeSeriesSplit\n",
    "from sklearn.metrics import mean_squared_error\n",
    "from sklearn.preprocessing import StandardScaler\n",
    "from sklearn import svm, datasets\n",
    "from sklearn.model_selection import GridSearchCV\n",
    "import pytz\n",
    "import warnings\n",
    "warnings.filterwarnings('ignore')"
   ]
  },
  {
   "cell_type": "code",
   "execution_count": null,
   "metadata": {
    "colab": {
     "base_uri": "https://localhost:8080/",
     "height": 64
    },
    "id": "tui7qLX7K8F-",
    "outputId": "da6d9d2d-56eb-4c0c-8fd7-7ad8cbe235ac"
   },
   "outputs": [],
   "source": [
    "# Convert stats from dict to df\n",
    "stats = pd.DataFrame([stats], index=[0])\n",
    "stats.head()"
   ]
  },
  {
   "cell_type": "code",
   "execution_count": 6,
   "metadata": {
    "id": "GiUsIIC9K8F-",
    "outputId": "a1e6283d-1f36-4530-d36f-fd4fcb19f79c"
   },
   "outputs": [
    {
     "ename": "NameError",
     "evalue": "name 'ticker_data_frames' is not defined",
     "output_type": "error",
     "traceback": [
      "\u001b[0;31m---------------------------------------------------------------------------\u001b[0m",
      "\u001b[0;31mNameError\u001b[0m                                 Traceback (most recent call last)",
      "Cell \u001b[0;32mIn[6], line 2\u001b[0m\n\u001b[1;32m      1\u001b[0m \u001b[38;5;66;03m# Concatenate all ticker DataFrames\u001b[39;00m\n\u001b[0;32m----> 2\u001b[0m df \u001b[38;5;241m=\u001b[39m pd\u001b[38;5;241m.\u001b[39mconcat(ticker_data_frames, axis\u001b[38;5;241m=\u001b[39m\u001b[38;5;241m1\u001b[39m)\n\u001b[1;32m      3\u001b[0m df\u001b[38;5;241m.\u001b[39mreplace([np\u001b[38;5;241m.\u001b[39minf, \u001b[38;5;241m-\u001b[39mnp\u001b[38;5;241m.\u001b[39minf], np\u001b[38;5;241m.\u001b[39mnan, inplace\u001b[38;5;241m=\u001b[39m\u001b[38;5;28;01mTrue\u001b[39;00m)\n\u001b[1;32m      4\u001b[0m df\u001b[38;5;241m.\u001b[39mdropna(inplace\u001b[38;5;241m=\u001b[39m\u001b[38;5;28;01mTrue\u001b[39;00m)\n",
      "\u001b[0;31mNameError\u001b[0m: name 'ticker_data_frames' is not defined"
     ]
    }
   ],
   "source": [
    "# Concatenate all ticker DataFrames\n",
    "df = pd.concat(ticker_data_frames, axis=1)\n",
    "df.replace([np.inf, -np.inf], np.nan, inplace=True)\n",
    "df.dropna(inplace=True)\n",
    "print(df.shape)\n",
    "ticker_data_frames[0].head()\n"
   ]
  },
  {
   "cell_type": "code",
   "execution_count": null,
   "metadata": {},
   "outputs": [],
   "source": [
    "df.tail()"
   ]
  },
  {
   "cell_type": "code",
   "execution_count": null,
   "metadata": {},
   "outputs": [],
   "source": []
  },
  {
   "cell_type": "code",
   "execution_count": null,
   "metadata": {},
   "outputs": [],
   "source": []
  },
  {
   "cell_type": "code",
   "execution_count": null,
   "metadata": {
    "id": "45AKvjm7K8F-"
   },
   "outputs": [],
   "source": []
  },
  {
   "cell_type": "markdown",
   "metadata": {
    "id": "8MAg4zruK8F-"
   },
   "source": [
    "# PLOT DATA"
   ]
  },
  {
   "cell_type": "code",
   "execution_count": null,
   "metadata": {
    "id": "iKq_kS-sK8F-",
    "outputId": "531d5b02-aee5-4527-8f66-fd4218a90743"
   },
   "outputs": [],
   "source": [
    "ticker_data_frames[0].head()"
   ]
  },
  {
   "cell_type": "code",
   "execution_count": null,
   "metadata": {
    "id": "Wpw68ibsK8F_",
    "outputId": "802e85a7-50e9-47d8-e908-8f59c787bd5d"
   },
   "outputs": [],
   "source": [
    "ticker_data_frames[0]['AAPL_close'].head()"
   ]
  },
  {
   "cell_type": "code",
   "execution_count": null,
   "metadata": {
    "id": "q7V4Ea1rK8F_",
    "outputId": "2f04e1c1-1ddd-4a59-e24d-24de922aef3c"
   },
   "outputs": [],
   "source": [
    "ticker_data_frames[0].shape"
   ]
  },
  {
   "cell_type": "code",
   "execution_count": null,
   "metadata": {
    "id": "faD-TSNuK8F_"
   },
   "outputs": [],
   "source": [
    "stats = pd.DataFrame([stats], index=[0])\n",
    "stats.head()"
   ]
  },
  {
   "cell_type": "code",
   "execution_count": null,
   "metadata": {
    "id": "KV65oaWjK8F_",
    "outputId": "5d4c9079-caa3-4e9d-ddbc-bf224ed9cd1c"
   },
   "outputs": [],
   "source": [
    "stats.shape"
   ]
  },
  {
   "cell_type": "code",
   "execution_count": null,
   "metadata": {
    "id": "XuOOgHduK8F_"
   },
   "outputs": [],
   "source": [
    "for i, df in enumerate(ticker_data_frames):\n",
    "    minutes = df.index.strftime(\"%m%d%M\")\n",
    "    closes = df[f'{tickers[i]}_close'].values\n",
    "    dft = pd.DataFrame({'y':closes,'x':minutes})\n",
    "    # df.plot(x=minutes,y=tickers[i]+'_close')\n",
    "    # dft = dft.reset_index()\n",
    "    dft.plot('x','y',title=tickers[i])\n",
    "    # print(df[f'{tickers[i]}_close'].values.size)\n",
    "    # print(minutes.values.size)\n",
    "    # print(dft.head())\n",
    "    # print(minutes.values)"
   ]
  },
  {
   "cell_type": "code",
   "execution_count": null,
   "metadata": {
    "colab": {
     "base_uri": "https://localhost:8080/"
    },
    "id": "44bzIGOlK8F_",
    "outputId": "fcc96cde-0ce9-418b-f0dc-4cdee1f77b29",
    "scrolled": true,
    "tags": []
   },
   "outputs": [],
   "source": [
    "ticker_data_frames = []\n",
    "stats = {}\n",
    "ticker_mean = []\n",
    "ticker_std = []\n",
    "time = None\n",
    "for ticker in tickers:\n",
    "\n",
    "    # Download historical data for the ticker\n",
    "    data = yf.download(ticker, period=\"1mo\", interval=\"2m\", timeout=50, repair=True)\n",
    "\n",
    "    # Calculate the daily percentage change\n",
    "\n",
    "    close = data['Close']\n",
    "    upper, lower = calculate_bollinger_bands(close, window=35, num_of_std=2)\n",
    "    # print(f'upper {upper}   lower {lower}')\n",
    "    width = upper - lower\n",
    "    rsi = calculate_rsi(close, window=35)\n",
    "    roc = calculate_roc(close, periods=35)\n",
    "    volume = data['Volume']\n",
    "    diff = data['Close'].diff(1)\n",
    "    percent_change_close = data['Close'].pct_change() * 100\n",
    "    percent_change_close = percent_change_close.values.reshape(-1)\n",
    "    if time is None:\n",
    "        time = data.index\n",
    "\n",
    "    # Create a DataFrame for the current ticker and append it to the list\n",
    "    ticker_df = pd.DataFrame({\n",
    "        ticker+'_close': close.values.reshape(-1),\n",
    "        ticker+'_width': width.values.reshape(-1),\n",
    "        ticker+'_rsi': rsi.values.reshape(-1),\n",
    "        ticker+'_roc': roc.values.reshape(-1),\n",
    "        ticker+'_volume': volume.values.reshape(-1),\n",
    "        ticker+'_diff': diff.values.reshape(-1),\n",
    "        ticker+'_percent_change_close': percent_change_close,\n",
    "    })\n",
    "\n",
    "    MEAN = ticker_df.mean()\n",
    "    STD = ticker_df.std()\n",
    "\n",
    "    # Keep track of mean and std\n",
    "    for column in MEAN.index:\n",
    "      stats[f\"{column}_mean\"] = MEAN[column]\n",
    "      stats[f\"{column}_std\"] = STD[column]\n",
    "\n",
    "    # Normalize the training features\n",
    "    # ticker_df = (ticker_df - MEAN) / STD\n",
    "    ticker_mean.append(MEAN)\n",
    "    ticker_std.append(STD)\n",
    "\n",
    "    ticker_data_frames.append(ticker_df)"
   ]
  },
  {
   "cell_type": "code",
   "execution_count": null,
   "metadata": {},
   "outputs": [],
   "source": [
    "ticker_data_frames[0].head(50)"
   ]
  },
  {
   "cell_type": "code",
   "execution_count": 11,
   "metadata": {},
   "outputs": [
    {
     "data": {
      "text/plain": [
       "array(['2024-11-18', '2024-11-19', '2024-11-20', '2024-11-21'],\n",
       "      dtype='datetime64[D]')"
      ]
     },
     "execution_count": 11,
     "metadata": {},
     "output_type": "execute_result"
    }
   ],
   "source": [
    "local_timezone = pytz.timezone('America/New_York') # Replace with your local timezone\n",
    "local_time = time.tz_convert(local_timezone)\n",
    "date = time[0].date()\n",
    "dates_ = [date]\n",
    "for t in local_time:\n",
    "    if t.date() != date:\n",
    "        dates_.append(t.date())\n",
    "        date = t.date()\n",
    "dates = np.array(dates_)        \n",
    "test = np.arange(dates[len(dates)-5], dates[len(dates)-1])\n",
    "test    "
   ]
  },
  {
   "cell_type": "code",
   "execution_count": 12,
   "metadata": {
    "colab": {
     "base_uri": "https://localhost:8080/",
     "height": 130
    },
    "id": "ai4p_v5mK8GA",
    "outputId": "1e081d25-7c2c-4f5b-c8e9-7178a23fa6e1",
    "tags": []
   },
   "outputs": [
    {
     "data": {
      "text/html": [
       "<div>\n",
       "<style scoped>\n",
       "    .dataframe tbody tr th:only-of-type {\n",
       "        vertical-align: middle;\n",
       "    }\n",
       "\n",
       "    .dataframe tbody tr th {\n",
       "        vertical-align: top;\n",
       "    }\n",
       "\n",
       "    .dataframe thead th {\n",
       "        text-align: right;\n",
       "    }\n",
       "</style>\n",
       "<table border=\"1\" class=\"dataframe\">\n",
       "  <thead>\n",
       "    <tr style=\"text-align: right;\">\n",
       "      <th></th>\n",
       "      <th>AAPL_close_mean</th>\n",
       "      <th>AAPL_close_std</th>\n",
       "      <th>AAPL_width_mean</th>\n",
       "      <th>AAPL_width_std</th>\n",
       "      <th>AAPL_rsi_mean</th>\n",
       "      <th>AAPL_rsi_std</th>\n",
       "      <th>AAPL_roc_mean</th>\n",
       "      <th>AAPL_roc_std</th>\n",
       "      <th>AAPL_volume_mean</th>\n",
       "      <th>AAPL_volume_std</th>\n",
       "      <th>...</th>\n",
       "      <th>TTD_rsi_mean</th>\n",
       "      <th>TTD_rsi_std</th>\n",
       "      <th>TTD_roc_mean</th>\n",
       "      <th>TTD_roc_std</th>\n",
       "      <th>TTD_volume_mean</th>\n",
       "      <th>TTD_volume_std</th>\n",
       "      <th>TTD_diff_mean</th>\n",
       "      <th>TTD_diff_std</th>\n",
       "      <th>TTD_percent_change_close_mean</th>\n",
       "      <th>TTD_percent_change_close_std</th>\n",
       "    </tr>\n",
       "  </thead>\n",
       "  <tbody>\n",
       "    <tr>\n",
       "      <th>0</th>\n",
       "      <td>227.535251</td>\n",
       "      <td>3.525915</td>\n",
       "      <td>3.624186</td>\n",
       "      <td>2.808643</td>\n",
       "      <td>50.308149</td>\n",
       "      <td>11.186646</td>\n",
       "      <td>-0.01659</td>\n",
       "      <td>0.469271</td>\n",
       "      <td>160180.555655</td>\n",
       "      <td>234916.920335</td>\n",
       "      <td>...</td>\n",
       "      <td>51.155039</td>\n",
       "      <td>11.863908</td>\n",
       "      <td>0.075735</td>\n",
       "      <td>1.301979</td>\n",
       "      <td>18887.642714</td>\n",
       "      <td>29907.560394</td>\n",
       "      <td>0.002624</td>\n",
       "      <td>0.30361</td>\n",
       "      <td>0.002413</td>\n",
       "      <td>0.237143</td>\n",
       "    </tr>\n",
       "  </tbody>\n",
       "</table>\n",
       "<p>1 rows × 462 columns</p>\n",
       "</div>"
      ],
      "text/plain": [
       "   AAPL_close_mean  AAPL_close_std  AAPL_width_mean  AAPL_width_std  \\\n",
       "0       227.535251        3.525915         3.624186        2.808643   \n",
       "\n",
       "   AAPL_rsi_mean  AAPL_rsi_std  AAPL_roc_mean  AAPL_roc_std  AAPL_volume_mean  \\\n",
       "0      50.308149     11.186646       -0.01659      0.469271     160180.555655   \n",
       "\n",
       "   AAPL_volume_std  ...  TTD_rsi_mean  TTD_rsi_std  TTD_roc_mean  TTD_roc_std  \\\n",
       "0    234916.920335  ...     51.155039    11.863908      0.075735     1.301979   \n",
       "\n",
       "   TTD_volume_mean  TTD_volume_std  TTD_diff_mean  TTD_diff_std  \\\n",
       "0     18887.642714    29907.560394       0.002624       0.30361   \n",
       "\n",
       "   TTD_percent_change_close_mean  TTD_percent_change_close_std  \n",
       "0                       0.002413                      0.237143  \n",
       "\n",
       "[1 rows x 462 columns]"
      ]
     },
     "execution_count": 12,
     "metadata": {},
     "output_type": "execute_result"
    }
   ],
   "source": [
    "stats = pd.DataFrame([stats], index=[0])\n",
    "stats.head()"
   ]
  },
  {
   "cell_type": "code",
   "execution_count": 13,
   "metadata": {
    "id": "D8x9ebGjK8GA",
    "tags": []
   },
   "outputs": [],
   "source": [
    "def mlp_model(X, Y):\n",
    "\n",
    "    max_iter = 30000\n",
    "    \n",
    "    estimator=MLPRegressor(max_iter=max_iter, n_iter_no_change=200)\n",
    "\n",
    "    params = np.arange(10,65,1)\n",
    "    jls = [(p,2*p,p) for p in params]\n",
    "    param_grid = {'hidden_layer_sizes': jls,\n",
    "          'activation': ['relu','tanh','logistic'],\n",
    "          'alpha': [0.001, 0.0001, 0.05],\n",
    "          'learning_rate': ['constant','adaptive'],\n",
    "          'solver': ['adam'],\n",
    "           'batch_size':[16,32,64],\n",
    "            'shuffle': [False]\n",
    "                 }\n",
    "\n",
    "    gsc = GridSearchCV(\n",
    "    estimator,\n",
    "    param_grid,\n",
    "    cv=5, scoring='neg_mean_squared_error', verbose=0, n_jobs=-1)\n",
    "\n",
    "    grid_result = gsc.fit(X, Y)\n",
    "\n",
    "\n",
    "    best_params = grid_result.best_params_\n",
    "\n",
    "    best_mlp = MLPRegressor(hidden_layer_sizes = best_params[\"hidden_layer_sizes\"],\n",
    "                        activation =best_params[\"activation\"],\n",
    "                        solver=best_params[\"solver\"],\n",
    "                        max_iter= max_iter, n_iter_no_change = 200\n",
    "              )\n",
    "\n",
    "    scoring = {\n",
    "           'abs_error': 'neg_mean_absolute_error',\n",
    "           'squared_error': 'neg_mean_squared_error',\n",
    "           'r2':'r2'}\n",
    "\n",
    "    scores = cross_validate(best_mlp, X, Y, cv=10, scoring=scoring, return_train_score=True, return_estimator = True)\n",
    "    return best_params, scores\n"
   ]
  },
  {
   "cell_type": "code",
   "execution_count": 14,
   "metadata": {},
   "outputs": [],
   "source": [
    "def mlp_model_short(X, Y):\n",
    "\n",
    "    max_iter = 30000\n",
    "    \n",
    "    estimator=MLPRegressor(max_iter=max_iter, n_iter_no_change=200)\n",
    "\n",
    "    params = np.arange(49,51,1)\n",
    "    jls = [(p,2*p,p) for p in params]\n",
    "    param_grid = {'hidden_layer_sizes': jls,\n",
    "          'activation': ['relu'],\n",
    "          'alpha': [0.0001],\n",
    "          'learning_rate': ['adaptive'],\n",
    "          'solver': ['adam'],\n",
    "           'batch_size':[16],\n",
    "            'shuffle': [False]\n",
    "                 }\n",
    "\n",
    "    gsc = GridSearchCV(\n",
    "    estimator,\n",
    "    param_grid,\n",
    "    cv=5, scoring='neg_mean_squared_error', verbose=0, n_jobs=-1)\n",
    "\n",
    "    grid_result = gsc.fit(X, Y)\n",
    "\n",
    "\n",
    "    best_params = grid_result.best_params_\n",
    "\n",
    "    best_mlp = MLPRegressor(hidden_layer_sizes = best_params[\"hidden_layer_sizes\"],\n",
    "                        activation =best_params[\"activation\"],\n",
    "                        solver=best_params[\"solver\"],\n",
    "                        max_iter= max_iter, n_iter_no_change = 200\n",
    "              )\n",
    "\n",
    "    scoring = {\n",
    "           'abs_error': 'neg_mean_absolute_error',\n",
    "           'squared_error': 'neg_mean_squared_error',\n",
    "           'r2':'r2'}\n",
    "\n",
    "    scores = cross_validate(best_mlp, X, Y, cv=10, scoring=scoring, return_train_score=True, return_estimator = True)\n",
    "    return best_params, scores\n"
   ]
  },
  {
   "cell_type": "markdown",
   "metadata": {
    "id": "3LyPCsl5K8GA"
   },
   "source": [
    "- Use the mean squared error (MSE) as cross-validation loss."
   ]
  },
  {
   "cell_type": "code",
   "execution_count": null,
   "metadata": {
    "id": "q21JUvHhK8GA"
   },
   "outputs": [],
   "source": [
    "def cross_validation_loss(hidden_neurons, Xtrain, ytrain):\n",
    "\n",
    "    mse = []\n",
    "\n",
    "    for train_split_, valid_split_ in tscv.split(Xtrain):\n",
    "\n",
    "        X_train_, y_train_ = X_train[train_split_], ytrain[train_split_]\n",
    "        X_valid_, y_valid_ = X_train[valid_split_], ytrain[valid_split_]\n",
    "\n",
    "        mlp = MLPRegressor(hidden_layer_sizes=(2*hidden_neurons,hidden_neurons, hidden_neurons,), max_iter=5000,\n",
    "                           activation='relu', optimizer='RMSProp', learning_rate_init=0.001, alpha=0.00001, random_state=1, shuffle=False)\n",
    "\n",
    "        mlp.fit(X_train_, y_train_)\n",
    "\n",
    "        mse.append(mean_squared_error(y_valid_, mlp.predict(X_valid_)))\n",
    "\n",
    "    return np.mean(mse)"
   ]
  },
  {
   "cell_type": "code",
   "execution_count": null,
   "metadata": {
    "id": "tx3CQykegOJq"
   },
   "outputs": [],
   "source": [
    "for i,odf in enumerate(ticker_data_frames):\n",
    "    name = odf.columns.to_list()[0]\n",
    "    print(f'name: {name}')\n",
    "    print(stats.columns.to_list()[0])\n",
    "    print(stats.at[0, name+'_mean'])\n",
    "    print(stats.at[0, name+'_std'])\n",
    "\n",
    "ticker_data_frames[0].head(50)"
   ]
  },
  {
   "cell_type": "code",
   "execution_count": 86,
   "metadata": {},
   "outputs": [],
   "source": [
    "scores = []\n",
    "params_ = []"
   ]
  },
  {
   "cell_type": "code",
   "execution_count": null,
   "metadata": {
    "id": "FnIPgn_FK8GA",
    "scrolled": true,
    "tags": []
   },
   "outputs": [],
   "source": [
    "k = 5\n",
    "total_mse = 0\n",
    "\n",
    "for i,odf in enumerate(ticker_data_frames):\n",
    "    # mean_close = ticker_mean[i]\n",
    "    # mean_std = ticker_std[i]\n",
    "    # odf = (odf + mean_close) * mean_std\n",
    "    columns = list(odf.columns.values)\n",
    "    newColumns = columns[1:k]\n",
    "    newColumns.append(columns[0])\n",
    "    df = odf[newColumns]\n",
    "    df.replace([np.inf, -np.inf], np.nan, inplace=True)\n",
    "    df.dropna(inplace=True)\n",
    "    df = df.iloc[:-1]\n",
    "    # print(df.head())\n",
    "    Z = df.to_numpy()\n",
    "    split = np.int32(0.8 * Z.shape[0])\n",
    "    Z_train, Z_test = Z[:split, :], Z[split:, :]\n",
    "    scaler = StandardScaler().fit(Z_train)\n",
    "    Z_train = scaler.transform(Z_train)\n",
    "    Z_test = scaler.transform(Z_test)\n",
    "    X_train, y_train = Z_train[:, :-1], Z_train[:, -1]\n",
    "    X_test, y_test = Z_test[:, :-1], Z_test[:, -1]\n",
    "    params, score= mlp_model(X_train, y_train)\n",
    "    params_.append(params)\n",
    "    scores.append(score)\n",
    "    # score=scores[0]\n",
    "    # params=params_[0]\n",
    "    y_pred = None\n",
    "    for i_,e in enumerate(score['estimator']):\n",
    "        e.fit(X_train, y_train)\n",
    "        pred = e.predict(X_test)\n",
    "        if i_ == 0:\n",
    "            y_pred = np.array(pred)\n",
    "        else:\n",
    "            y_pred += np.array(pred)    \n",
    "    y_pred /= len(score['estimator'])\n",
    "\n",
    "        \n",
    "    # mlp = MLPRegressor(hidden_layer_sizes = params[\"hidden_layer_sizes\"],\n",
    "    #                 activation =params[\"activation\"],\n",
    "    #                 solver=params[\"solver\"],\n",
    "    #                 max_iter= 5000, n_iter_no_change = 200\n",
    "\n",
    "    # params = [10,15, 16, 17, 18, 19 ,20,21,22,23,24,25,30,35,40,45,50,55,60,65,75]\n",
    "    # params = np.arange(10,25,1)\n",
    "    # mse = [cross_validation_loss(p, X_train,y_train) for p in params]\n",
    "    # minMSE = params[np.argmin(mse)]\n",
    "    # mlp = MLPRegressor(hidden_layer_sizes=(2*minMSE,minMSE,minMSE,), max_iter=5000, random_state=1,\n",
    "    #                    activation='relu', learning_rate_init=0.001, alpha=0.00001,shuffle=False)\n",
    "    # print(f'minMSE: {minMSE}  df.shape {df.shape} {stats.iloc[0][0:2]} {stats.iloc[0][0]}    {stats.iloc[0][1]}')\n",
    "    # close = odf.columns.to_list()[0]\n",
    "    # mlp.fit(X_train, y_train)\n",
    "    # y_pred = mlp.predict(X_test)\n",
    "    y_test_ = (scaler.inverse_transform(np.hstack([X_test, y_test.reshape(-1, 1)]))[:, -1])\n",
    "    y_pred_ = (scaler.inverse_transform(np.hstack([X_test, y_pred.reshape(-1, 1)]))[:, -1])\n",
    "    mse_ = mean_squared_error(y_test_, y_pred_)\n",
    "    total_mse += mse_\n",
    "    print(f'mean squared error {mse_}')\n",
    "    fig, ax = plt.subplots()\n",
    "    plt.xlabel(tickers[i])\n",
    "    plt.ylabel(f'{tickers[i]} close')\n",
    "    plt.title(f'2 minute {tickers[i]}')\n",
    "    time = mdates.drange(dates[len(dates)-np.round(len(y_test_)/180).astype(int)],dates[len(dates)-1],  dt.timedelta(days=1))\n",
    "    fractions = np.linspace(min(time), max(time), len(y_test_))\n",
    "    plt.plot(fractions, pd.Series(y_test_), color='blue', label=f'{tickers[i]} Test Data')\n",
    "    plt.plot(fractions, pd.Series(y_pred_), color='red', label=f'Forecast {tickers[i]}')\n",
    "    ax.xaxis.set_major_formatter(mdates.DateFormatter(\"%m-%d-%y\"))\n",
    "    plt.xlim(min(time), max(time))\n",
    "    plt.xticks(time)\n",
    "    ax.xaxis_date() # Default date formatter\n",
    "    fig.autofmt_xdate()\n",
    "    plt.legend(loc='upper right') \n",
    "    plt.show()    \n",
    "    # break\n",
    "print(total_mse)"
   ]
  },
  {
   "cell_type": "code",
   "execution_count": 37,
   "metadata": {},
   "outputs": [],
   "source": [
    "import matplotlib.dates as mdates\n",
    "import datetime as dt"
   ]
  },
  {
   "cell_type": "code",
   "execution_count": 73,
   "metadata": {},
   "outputs": [
    {
     "data": {
      "text/plain": [
       "<module 'matplotlib.pyplot' from '/home/mark/anaconda3/envs/MLPstock/lib/python3.12/site-packages/matplotlib/pyplot.py'>"
      ]
     },
     "execution_count": 73,
     "metadata": {},
     "output_type": "execute_result"
    }
   ],
   "source": [
    "import importlib\n",
    "importlib.reload(plt)"
   ]
  },
  {
   "cell_type": "code",
   "execution_count": 85,
   "metadata": {},
   "outputs": [
    {
     "data": {
      "image/png": "[encoded data removed]",
      "text/plain": [
       "<Figure size 640x480 with 1 Axes>"
      ]
     },
     "metadata": {},
     "output_type": "display_data"
    }
   ],
   "source": [
    "    fig, ax = plt.subplots()\n",
    "    plt.xlabel(tickers[i])\n",
    "    plt.ylabel(f'{tickers[i]} close')\n",
    "    plt.title(f'2 minute {tickers[i]}')\n",
    "    time = mdates.drange(dates[len(dates)-np.round(len(y_test_)/180).astype(int)],dates[len(dates)-1],  dt.timedelta(days=1))\n",
    "    fractions = np.linspace(min(time), max(time), len(y_test_))\n",
    "    plt.plot(fractions, pd.Series(y_test_), color='blue', label='Test Data')\n",
    "    plt.plot(fractions, pd.Series(y_pred_), color='red', label=f'Forecast {tickers[i]}')\n",
    "    ax.xaxis.set_major_formatter(mdates.DateFormatter(\"%m-%d-%y\"))\n",
    "    m = min(time);\n",
    "    plt.xlim(min(time), max(time))\n",
    "    plt.xticks(time)\n",
    "    ax.xaxis_date() # Default date formatter\n",
    "    fig.autofmt_xdate()\n",
    "    plt.show()\n"
   ]
  },
  {
   "cell_type": "code",
   "execution_count": 64,
   "metadata": {},
   "outputs": [
    {
     "data": {
      "image/png": "[encoded data removed]",
      "text/plain": [
       "<Figure size 800x600 with 1 Axes>"
      ]
     },
     "metadata": {},
     "output_type": "display_data"
    }
   ],
   "source": [
    "import random\n",
    " \n",
    "x = mdates.drange(dt.datetime(2021, 3, 1, 0, 0, 0), dt.datetime(2021, 3, 3, 0, 0, 0),\n",
    "                     dt.timedelta(hours=1))\n",
    "y = [random.randint(0,100) for _ in range(len(x))]\n",
    "time = mdates.drange(dt.datetime(2021, 3, 1, 0, 0, 0), dt.datetime(2021, 3, 3, 1, 0, 0),\n",
    "                     dt.timedelta(hours=6))\n",
    "  \n",
    "fig, ax = plt.subplots(figsize=(8, 6))\n",
    "plt.xticks(time)\n",
    "ax.xaxis.set_major_formatter(mdates.DateFormatter(\"%m-%d %H:%M\"))\n",
    "# ax.xaxis.set_minor_formatter(mdates.DateFormatter(\"%m-%d %H:%M\"))\n",
    "ax.plot(x, y, 'bo-')\n",
    "ax.set(title='Active Calls', ylabel='Calls', xlabel='Time')\n",
    "ax.grid()\n",
    "  \n",
    "ax.xaxis_date() # Default date formatter\n",
    "fig.autofmt_xdate()\n",
    "  \n",
    "plt.show()"
   ]
  },
  {
   "cell_type": "markdown",
   "metadata": {
    "id": "lipVAmyhK8GB"
   },
   "source": [
    "- Calculate the cross validation loss corresponding to different numbers of hidden nodes."
   ]
  },
  {
   "cell_type": "code",
   "execution_count": null,
   "metadata": {
    "id": "xbvE0mbXK8GB"
   },
   "outputs": [],
   "source": [
    "params = [10,15,20,25,30,35,40,45,50,55,60,65,75]\n",
    "mse = [cross_validation_loss(p) for p in params]"
   ]
  },
  {
   "cell_type": "code",
   "execution_count": null,
   "metadata": {
    "id": "M4OD4cqIK8GB",
    "outputId": "59b8dc71-ff26-4c2d-82c5-d0f0fe3b7790"
   },
   "outputs": [],
   "source": [
    "fig, ax = plt.subplots()\n",
    "plt.xlabel('Hidden Nodes')\n",
    "plt.ylabel('Mean Squared Error (MSE)')\n",
    "plt.title('5-Fold Cross Validation Loss')\n",
    "plt.plot(params, mse, '-o')"
   ]
  },
  {
   "cell_type": "markdown",
   "metadata": {
    "id": "0qEMPyCkK8GB"
   },
   "source": [
    "- Find the number of hidden nodes associated with the smallest cross validation loss."
   ]
  },
  {
   "cell_type": "code",
   "execution_count": null,
   "metadata": {
    "id": "TLr4tvrfK8GB",
    "outputId": "f0ce4a88-140e-4d6b-d0f9-18f1033f0141"
   },
   "outputs": [],
   "source": [
    "params[np.argmin(mse)]"
   ]
  },
  {
   "cell_type": "code",
   "execution_count": null,
   "metadata": {
    "id": "DLMgsA6RK8GC",
    "outputId": "e9881986-60e8-465e-e079-b2617488ad79"
   },
   "outputs": [],
   "source": [
    "y_train"
   ]
  },
  {
   "cell_type": "markdown",
   "metadata": {
    "id": "f7tenZ5CK8GC"
   },
   "source": [
    "- Fit an MLP model with 50 hidden nodes to the training data."
   ]
  },
  {
   "cell_type": "code",
   "execution_count": null,
   "metadata": {
    "id": "zKa0Yf8_K8GC"
   },
   "outputs": [],
   "source": [
    "mlp = MLPRegressor(hidden_layer_sizes=(50,), max_iter=500, random_state=1, shuffle=False)"
   ]
  },
  {
   "cell_type": "code",
   "execution_count": null,
   "metadata": {
    "id": "jiHzV03qK8GC"
   },
   "outputs": [],
   "source": [
    "mlp.fit(X_train, y_train)"
   ]
  },
  {
   "cell_type": "markdown",
   "metadata": {
    "id": "bOA-96oTK8GD"
   },
   "source": [
    "- Use the fitted MLP model to forecast the test data."
   ]
  },
  {
   "cell_type": "code",
   "execution_count": null,
   "metadata": {
    "id": "wG0fUjj2K8GD"
   },
   "outputs": [],
   "source": [
    "y_pred = mlp.predict(X_test)"
   ]
  },
  {
   "cell_type": "markdown",
   "metadata": {
    "id": "LDxv8ynYK8GD"
   },
   "source": [
    "- Transform the data back to the original scale."
   ]
  },
  {
   "cell_type": "code",
   "execution_count": null,
   "metadata": {
    "id": "wi2SyYlAK8GD"
   },
   "outputs": [],
   "source": [
    "y_test_ = scaler.inverse_transform(np.hstack([X_test, y_test.reshape(-1, 1)]))[:, -1]\n",
    "y_pred_ = scaler.inverse_transform(np.hstack([X_test, y_pred.reshape(-1, 1)]))[:, -1]"
   ]
  },
  {
   "cell_type": "markdown",
   "metadata": {
    "id": "JIEKGEkrK8GE"
   },
   "source": [
    "- Plot the data and the forecasts in the original scale."
   ]
  },
  {
   "cell_type": "code",
   "execution_count": null,
   "metadata": {
    "id": "k06Qf6cgK8GE",
    "scrolled": true
   },
   "outputs": [],
   "source": [
    "fig, ax = plt.subplots()\n",
    "plt.xlabel('Year: 1949-1960')\n",
    "plt.ylabel('Monthly Passengers (1000s)')\n",
    "plt.title('Monthly Intl Air Passengers')\n",
    "plt.plot(df.iloc[:(k + len(y_train) + 1), :], color='black', label='Training Data')\n",
    "plt.plot(pd.Series(y_test_, index=df.index[-len(y_test):]), color='blue', label='Test Data')\n",
    "plt.plot(pd.Series(y_pred_, index=df.index[-len(y_test):]), color='red', label='Forecast (50 hidden nodes)')\n",
    "plt.legend(bbox_to_anchor=(1.05, 1))\n",
    "ax.xaxis.set_major_formatter(DateFormatter('%Y'))"
   ]
  },
  {
   "cell_type": "markdown",
   "metadata": {
    "id": "BLWKRWxjK8GE"
   },
   "source": [
    "# CLEAN UP\n",
    "\n",
    "- If desired, clear the results with Cell > All Output > Clear.\n",
    "- Save your work by selecting File > Save and Checkpoint.\n",
    "- Shut down the Python kernel and close the file by selecting File > Close and Halt."
   ]
  }
 ],
 "metadata": {
  "colab": {
   "provenance": []
  },
  "kernelspec": {
   "display_name": "Python 3 (ipykernel)",
   "language": "python",
   "name": "python3"
  },
  "language_info": {
   "codemirror_mode": {
    "name": "ipython",
    "version": 3
   },
   "file_extension": ".py",
   "mimetype": "text/x-python",
   "name": "python",
   "nbconvert_exporter": "python",
   "pygments_lexer": "ipython3",
   "version": "3.12.7"
  }
 },
 "nbformat": 4,
 "nbformat_minor": 4
}

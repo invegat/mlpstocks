{
  "cells": [
    {
      "cell_type": "markdown",
      "metadata": {
        "id": "view-in-github",
        "colab_type": "text"
      },
      "source": [
        "<a href=\"https://colab.research.google.com/github/invegat/mlpstocks/blob/main/yf.ipynb\" target=\"_parent\"><img src=\"https://colab.research.google.com/assets/colab-badge.svg\" alt=\"Open In Colab\"/></a>"
      ]
    },
    {
      "cell_type": "code",
      "execution_count": 1,
      "id": "40d38a61-07a6-41a9-b549-a0d5cf8130d5",
      "metadata": {
        "id": "40d38a61-07a6-41a9-b549-a0d5cf8130d5"
      },
      "outputs": [],
      "source": [
        "import yfinance as yf\n",
        "import pandas as pd\n",
        "import time"
      ]
    },
    {
      "cell_type": "code",
      "execution_count": 4,
      "id": "9c032e93-8426-4069-8cc8-5b859a0eec24",
      "metadata": {
        "id": "9c032e93-8426-4069-8cc8-5b859a0eec24"
      },
      "outputs": [],
      "source": [
        "stocks = [\"AAPL\", \"MSFT\", \"AMZN\", \"NVDA\", \"TSLA\", \"GOOG\", \"GOOGL\",  \"BRK-B\",\"META\",\\\n",
        "          \"UNH\", \"V\", \"XOM\", \"JPM\", \"JNJ\", \"WMT\", \"MA\", \"PG\", \"CVX\", \"HD\", \"LLY\", \"ABBV\", \\\n",
        "         \"BAC\", \"MRK\", \"AVGO\", \"KO\", \"ORCL\", \"PEP\", \"PFE\", \"TMO\", \"COST\", \"QQQ\", \"CRWD\", \"TTD\"]"
      ]
    },
    {
      "cell_type": "code",
      "source": [
        "stocks=['BRK-B']"
      ],
      "metadata": {
        "id": "GPhLmw_TvZDr"
      },
      "id": "GPhLmw_TvZDr",
      "execution_count": 7,
      "outputs": []
    },
    {
      "cell_type": "code",
      "execution_count": 8,
      "id": "94944362-b5e5-4fa5-8e04-3223640d0af9",
      "metadata": {
        "id": "94944362-b5e5-4fa5-8e04-3223640d0af9",
        "outputId": "19107e82-efad-418d-8e37-c5ed40390763",
        "colab": {
          "base_uri": "https://localhost:8080/"
        }
      },
      "outputs": [
        {
          "output_type": "stream",
          "name": "stderr",
          "text": [
            "\r[*********************100%***********************]  1 of 1 completed\n"
          ]
        }
      ],
      "source": [
        "for stock in stocks:\n",
        "    data = yf.download(stock, period=\"60d\", interval=\"5m\")\n",
        "    time.sleep(5)\n",
        "    data.to_csv(f'{stock}_5m.csv', index=False)"
      ]
    },
    {
      "cell_type": "code",
      "execution_count": null,
      "id": "3f64857a-9588-440b-9b65-c9df6df3e4ab",
      "metadata": {
        "id": "3f64857a-9588-440b-9b65-c9df6df3e4ab"
      },
      "outputs": [],
      "source": []
    },
    {
      "cell_type": "code",
      "execution_count": null,
      "id": "ce186e07-946d-492a-8432-8bb312c0b860",
      "metadata": {
        "id": "ce186e07-946d-492a-8432-8bb312c0b860"
      },
      "outputs": [],
      "source": []
    },
    {
      "cell_type": "code",
      "execution_count": null,
      "id": "da783cbd-4531-4d20-b2f9-7a2cae669fa3",
      "metadata": {
        "id": "da783cbd-4531-4d20-b2f9-7a2cae669fa3"
      },
      "outputs": [],
      "source": []
    }
  ],
  "metadata": {
    "kernelspec": {
      "display_name": "Python [conda env:stocks] *",
      "language": "python",
      "name": "conda-env-stocks-py"
    },
    "language_info": {
      "codemirror_mode": {
        "name": "ipython",
        "version": 3
      },
      "file_extension": ".py",
      "mimetype": "text/x-python",
      "name": "python",
      "nbconvert_exporter": "python",
      "pygments_lexer": "ipython3",
      "version": "3.10.13"
    },
    "colab": {
      "provenance": [],
      "toc_visible": true,
      "include_colab_link": true
    }
  },
  "nbformat": 4,
  "nbformat_minor": 5
}